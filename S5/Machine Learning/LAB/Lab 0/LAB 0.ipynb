{
 "cells": [
  {
   "cell_type": "markdown",
   "id": "63df3f58",
   "metadata": {},
   "source": [
    "# Basics of Python"
   ]
  },
  {
   "cell_type": "markdown",
   "id": "f90d81a5",
   "metadata": {},
   "source": [
    "## 3. Implement exercise 2.2, 2.3"
   ]
  },
  {
   "cell_type": "markdown",
   "id": "11597b21",
   "metadata": {},
   "source": [
    "### 2.2 Variables\n"
   ]
  },
  {
   "cell_type": "markdown",
   "id": "ff4cb622",
   "metadata": {},
   "source": [
    "One of the most powerful features of a programming language is the ability to manipulate variables. A *variable* is a name that refers to a value.\n",
    "An *assignment statement* creates new variables and gives them values:"
   ]
  },
  {
   "cell_type": "code",
   "execution_count": 3,
   "id": "fd993769",
   "metadata": {},
   "outputs": [],
   "source": [
    "message = 'And now for something completely different'\n",
    "n = 17\n",
    "pi = 3.1415926535897932"
   ]
  },
  {
   "cell_type": "markdown",
   "id": "599685d1",
   "metadata": {},
   "source": [
    "This example makes three assignments. The first assigns a string to a new variable named message; the second gives the integer 17 to n; the third assigns the (approximate) value of π to pi.\n",
    "\n",
    "A common way to represent variables on paper is to write the name with an arrow pointing to the variable’s value. This kind of figure is called a *state diagram* because it shows what state each of the variables is in (think of it as the variable’s state of mind). Figure 2.1 shows the result of the previous example.\n",
    "\n",
    "The type of a variable is the type of the value it refers to."
   ]
  },
  {
   "cell_type": "code",
   "execution_count": 4,
   "id": "8bd39962",
   "metadata": {},
   "outputs": [
    {
     "name": "stdout",
     "output_type": "stream",
     "text": [
      "<class 'str'>\n",
      "<class 'int'>\n",
      "<class 'float'>\n"
     ]
    }
   ],
   "source": [
    "print(type(message))\n",
    "print(type(n))\n",
    "print(type(pi))"
   ]
  },
  {
   "cell_type": "markdown",
   "id": "140112bb",
   "metadata": {},
   "source": [
    "## 5. Implement exercise 3.1 to 3.5"
   ]
  },
  {
   "cell_type": "markdown",
   "id": "a5bb5a84",
   "metadata": {},
   "source": [
    "### 3.1 Function calls"
   ]
  },
  {
   "cell_type": "markdown",
   "id": "7201858c",
   "metadata": {},
   "source": [
    "In the context of programming, a *function* is a named sequence of statements that performs a computation. When you define a function, you specify the name and the sequence of statements. Later, you can “call” the function by name. We have already seen one example of a *function call*:"
   ]
  },
  {
   "cell_type": "code",
   "execution_count": 5,
   "id": "64e6bb17",
   "metadata": {},
   "outputs": [
    {
     "name": "stdout",
     "output_type": "stream",
     "text": [
      "<class 'int'>\n"
     ]
    }
   ],
   "source": [
    "print(type(32))"
   ]
  },
  {
   "cell_type": "markdown",
   "id": "9f950bc1",
   "metadata": {},
   "source": [
    "The name of the function is type. The expression in parentheses is called the *argument* of the function. The result, for this function, is the type of the argument.\n",
    "\n",
    "It is common to say that a function “takes” an argument and “returns” a result. The result is called the *return value*."
   ]
  },
  {
   "cell_type": "markdown",
   "id": "fbe7e266",
   "metadata": {},
   "source": [
    "### 3.2 Type conversion functions"
   ]
  },
  {
   "cell_type": "markdown",
   "id": "378df5d3",
   "metadata": {},
   "source": [
    "Python provides built-in functions that convert values from one type to another. The int function takes any value and converts it to an integer, if it can, or complains  otherwise:"
   ]
  },
  {
   "cell_type": "code",
   "execution_count": 6,
   "id": "e84bf95f",
   "metadata": {},
   "outputs": [
    {
     "data": {
      "text/plain": [
       "32"
      ]
     },
     "execution_count": 6,
     "metadata": {},
     "output_type": "execute_result"
    }
   ],
   "source": [
    "int('32')"
   ]
  },
  {
   "cell_type": "code",
   "execution_count": 7,
   "id": "0b46c03f",
   "metadata": {},
   "outputs": [
    {
     "ename": "ValueError",
     "evalue": "invalid literal for int() with base 10: 'Hello'",
     "output_type": "error",
     "traceback": [
      "\u001b[0;31m---------------------------------------------------------------------------\u001b[0m",
      "\u001b[0;31mValueError\u001b[0m                                Traceback (most recent call last)",
      "\u001b[1;32m/home/aadithyan/BTech/S5/Machine Learning/LAB/Lab 0/LAB 0.ipynb Cell 16\u001b[0m line \u001b[0;36m1\n\u001b[0;32m----> <a href='vscode-notebook-cell:/home/aadithyan/BTech/S5/Machine%20Learning/LAB/Lab%200/LAB%200.ipynb#X33sZmlsZQ%3D%3D?line=0'>1</a>\u001b[0m \u001b[39mint\u001b[39;49m(\u001b[39m'\u001b[39;49m\u001b[39mHello\u001b[39;49m\u001b[39m'\u001b[39;49m)\n",
      "\u001b[0;31mValueError\u001b[0m: invalid literal for int() with base 10: 'Hello'"
     ]
    }
   ],
   "source": [
    "int('Hello')"
   ]
  },
  {
   "cell_type": "markdown",
   "id": "34c87843",
   "metadata": {},
   "source": [
    "int can convert floating-point values to integers, but it doesn’t round off; it chops off the fraction part:"
   ]
  },
  {
   "cell_type": "code",
   "execution_count": 8,
   "id": "c6c6f7aa",
   "metadata": {},
   "outputs": [
    {
     "data": {
      "text/plain": [
       "3"
      ]
     },
     "execution_count": 8,
     "metadata": {},
     "output_type": "execute_result"
    }
   ],
   "source": [
    "int(3.99999)"
   ]
  },
  {
   "cell_type": "code",
   "execution_count": 9,
   "id": "721183ea",
   "metadata": {},
   "outputs": [
    {
     "data": {
      "text/plain": [
       "-2"
      ]
     },
     "execution_count": 9,
     "metadata": {},
     "output_type": "execute_result"
    }
   ],
   "source": [
    "int(-2.3)"
   ]
  },
  {
   "cell_type": "markdown",
   "id": "53967bc8",
   "metadata": {},
   "source": [
    "### 3.3 Math functions"
   ]
  },
  {
   "cell_type": "markdown",
   "id": "bb42dcd2",
   "metadata": {},
   "source": [
    "Python has a math module that provides most of the familiar mathematical functions. A *module* is a file that contains a collection of related functions.\n",
    "\n",
    "Before we can use the module, we have to import it:"
   ]
  },
  {
   "cell_type": "code",
   "execution_count": 10,
   "id": "7575cf3d",
   "metadata": {},
   "outputs": [],
   "source": [
    "import math"
   ]
  },
  {
   "cell_type": "markdown",
   "id": "875c6810",
   "metadata": {},
   "source": [
    "This statement creates a *module object* named math. If you print the module object, you get some information about it:"
   ]
  },
  {
   "cell_type": "code",
   "execution_count": 12,
   "id": "d60575fc",
   "metadata": {},
   "outputs": [
    {
     "name": "stdout",
     "output_type": "stream",
     "text": [
      "<module 'math' (built-in)>\n"
     ]
    }
   ],
   "source": [
    "print(math)"
   ]
  },
  {
   "cell_type": "markdown",
   "id": "849e11c4",
   "metadata": {},
   "source": [
    "The module object contains the functions and variables defined in the module. To access one of the functions, you have to specify the name of the module and the name of the function, separated by a dot (also known as a period). This format is called *dot notation*."
   ]
  },
  {
   "cell_type": "code",
   "execution_count": 15,
   "id": "781e2190",
   "metadata": {},
   "outputs": [],
   "source": [
    "#ratio = signal_power / noise_power\n",
    "#decibels = 10 * math.log10(ratio)"
   ]
  },
  {
   "cell_type": "code",
   "execution_count": 16,
   "id": "8a2b8bef",
   "metadata": {},
   "outputs": [],
   "source": [
    "radians = 0.7\n",
    "height = math.sin(radians)"
   ]
  },
  {
   "cell_type": "markdown",
   "id": "7e8a9379",
   "metadata": {},
   "source": [
    "The first example uses log10 to compute a signal-to-noise ratio in decibels (assuming that signal_power and noise_power are defined). The math module also provides log, which computes logarithms base e.\n",
    "\n",
    "The second example finds the sine of radians. The name of the variable is a hint that sin and the other trigonometric functions (cos, tan, etc.) take arguments in radians. To convert from degrees to radians, divide by 360 and multiply by 2π:"
   ]
  },
  {
   "cell_type": "code",
   "execution_count": 17,
   "id": "9dc33316",
   "metadata": {},
   "outputs": [
    {
     "data": {
      "text/plain": [
       "0.7071067811865475"
      ]
     },
     "execution_count": 17,
     "metadata": {},
     "output_type": "execute_result"
    }
   ],
   "source": [
    "degrees = 45\n",
    "radians = degrees / 360.0 * 2 * math.pi\n",
    "math.sin(radians)"
   ]
  },
  {
   "cell_type": "markdown",
   "id": "da774a40",
   "metadata": {},
   "source": [
    "The expression math.pi gets the variable pi from the math module. The value of this variable is an approximation of π, accurate to about 15 digits.\n",
    "\n",
    "If you know your trigonometry, you can check the previous result by comparing it to the square root of two divided by two:"
   ]
  },
  {
   "cell_type": "code",
   "execution_count": 18,
   "id": "2a0cf003",
   "metadata": {},
   "outputs": [
    {
     "data": {
      "text/plain": [
       "0.7071067811865476"
      ]
     },
     "execution_count": 18,
     "metadata": {},
     "output_type": "execute_result"
    }
   ],
   "source": [
    "math.sqrt(2) / 2.0"
   ]
  },
  {
   "cell_type": "markdown",
   "id": "7e8814be",
   "metadata": {},
   "source": [
    "### 3.4 Composition"
   ]
  },
  {
   "cell_type": "markdown",
   "id": "c040c9e1",
   "metadata": {},
   "source": [
    "So far, we have looked at the elements of a program—variables, expressions, and statements—in isolation, without talking about how to combine them.\n",
    "\n",
    "One of the most useful features of programming languages is their ability to take small building blocks and *compose* them. For example, the argument of a function can be any kind of expression, including arithmetic operators:"
   ]
  },
  {
   "cell_type": "markdown",
   "id": "7aac8e7a",
   "metadata": {},
   "source": [
    "x = math.sin(degrees / 360.0 * 2 * math.pi)"
   ]
  },
  {
   "cell_type": "markdown",
   "id": "85acb53c",
   "metadata": {},
   "source": [
    "And even function calls:"
   ]
  },
  {
   "cell_type": "markdown",
   "id": "b8b1de96",
   "metadata": {},
   "source": [
    "x = math.exp(math.log(x+1))"
   ]
  },
  {
   "cell_type": "markdown",
   "id": "e7b6cd21",
   "metadata": {},
   "source": [
    "Almost anywhere you can put a value, you can put an arbitrary expression, with one exception: the left side of an assignment statement has to be a variable name. Any other\n",
    "expression on the left side is a syntax error (we will see exceptions to this rule later)."
   ]
  },
  {
   "cell_type": "markdown",
   "id": "78da8957",
   "metadata": {},
   "source": [
    "minutes = hours * 60    # right\n",
    "\n",
    "hours * 60 = minutes    # wrong!\n",
    "\n",
    "SyntaxError: can't assign to operator"
   ]
  },
  {
   "cell_type": "markdown",
   "id": "ee093dab",
   "metadata": {},
   "source": [
    "### 3.5 Adding new functions"
   ]
  },
  {
   "cell_type": "markdown",
   "id": "d788c085",
   "metadata": {},
   "source": [
    "So far, we have only been using the functions that come with Python, but it is also possible to add new functions. A *function definition* specifies the name of a new function and the sequence of statements that execute when the function is called."
   ]
  },
  {
   "cell_type": "markdown",
   "id": "76e11515",
   "metadata": {},
   "source": [
    "Here is an example:"
   ]
  },
  {
   "cell_type": "code",
   "execution_count": 19,
   "id": "fdf60f6e",
   "metadata": {},
   "outputs": [],
   "source": [
    "def print_lyrics():\n",
    "    print(\"I'm a lumberjack, and I'm okay.\")\n",
    "    print(\"I sleep all night and I work all day.\")"
   ]
  },
  {
   "cell_type": "markdown",
   "id": "bd55762c",
   "metadata": {},
   "source": [
    "def is a keyword that indicates that this is a function definition. The name of the function\n",
    "is print_lyrics. The rules for function names are the same as for variable names: letters,\n",
    "numbers and some punctuation marks are legal, but the first character can’t be a number.\n",
    "You can’t use a keyword as the name of a function, and you should avoid having a variable\n",
    "and a function with the same name."
   ]
  },
  {
   "cell_type": "markdown",
   "id": "9a12c01e",
   "metadata": {},
   "source": [
    "The empty parentheses after the name indicate that this function doesn’t take any arguments."
   ]
  },
  {
   "cell_type": "markdown",
   "id": "b8363f4a",
   "metadata": {},
   "source": [
    "The first line of the function definition is called the header; the rest is called the body. The header has to end with a colon and the body has to be indented. By convention, the indentation is always four spaces. The body can contain any number of statements."
   ]
  },
  {
   "cell_type": "markdown",
   "id": "8f9eeb81",
   "metadata": {},
   "source": [
    "The strings in the print statements are enclosed in double quotes. Single quotes and double\n",
    "quotes do the same thing; most people use single quotes except in cases like this where a\n",
    "single quote (which is also an apostrophe) appears in the string."
   ]
  },
  {
   "cell_type": "markdown",
   "id": "7e59afc3",
   "metadata": {},
   "source": [
    "If you type a function definition in interactive mode, the interpreter prints ellipses (...) to\n",
    "let you know that the definition isn’t complete:"
   ]
  },
  {
   "cell_type": "markdown",
   "id": "402b7898",
   "metadata": {},
   "source": [
    "To end the function, you have to enter an empty line (this is not necessary in a script)."
   ]
  },
  {
   "cell_type": "markdown",
   "id": "a1861b46",
   "metadata": {},
   "source": [
    "Defining a function creates a variable with the same name."
   ]
  },
  {
   "cell_type": "code",
   "execution_count": 20,
   "id": "6bc30d3c",
   "metadata": {},
   "outputs": [
    {
     "name": "stdout",
     "output_type": "stream",
     "text": [
      "<function print_lyrics at 0x7faf1c799360>\n"
     ]
    }
   ],
   "source": [
    "print(print_lyrics)"
   ]
  },
  {
   "cell_type": "code",
   "execution_count": 21,
   "id": "cd541181",
   "metadata": {},
   "outputs": [
    {
     "data": {
      "text/plain": [
       "function"
      ]
     },
     "execution_count": 21,
     "metadata": {},
     "output_type": "execute_result"
    }
   ],
   "source": [
    "type(print_lyrics)"
   ]
  },
  {
   "cell_type": "markdown",
   "id": "ef9562f8",
   "metadata": {},
   "source": [
    "The value of print_lyrics is a *function object*, which has type 'function'.\n",
    "\n",
    "The syntax for calling the new function is the same as for built-in functions:"
   ]
  },
  {
   "cell_type": "code",
   "execution_count": 22,
   "id": "ebfb1dad",
   "metadata": {},
   "outputs": [
    {
     "name": "stdout",
     "output_type": "stream",
     "text": [
      "I'm a lumberjack, and I'm okay.\n",
      "I sleep all night and I work all day.\n"
     ]
    }
   ],
   "source": [
    "print_lyrics()"
   ]
  },
  {
   "cell_type": "markdown",
   "id": "4930c352",
   "metadata": {},
   "source": [
    "Once you have defined a function, you can use it inside another function. For example, to\n",
    "repeat the previous refrain, we could write a function called repeat_lyrics:"
   ]
  },
  {
   "cell_type": "code",
   "execution_count": 23,
   "id": "fc139dc8",
   "metadata": {},
   "outputs": [],
   "source": [
    "def repeat_lyrics():\n",
    "    print_lyrics()\n",
    "    print_lyrics()"
   ]
  },
  {
   "cell_type": "markdown",
   "id": "e83fd174",
   "metadata": {},
   "source": [
    "And then call repeat_lyrics:"
   ]
  },
  {
   "cell_type": "code",
   "execution_count": 24,
   "id": "7b57bb1a",
   "metadata": {},
   "outputs": [
    {
     "name": "stdout",
     "output_type": "stream",
     "text": [
      "I'm a lumberjack, and I'm okay.\n",
      "I sleep all night and I work all day.\n",
      "I'm a lumberjack, and I'm okay.\n",
      "I sleep all night and I work all day.\n"
     ]
    }
   ],
   "source": [
    "repeat_lyrics()"
   ]
  },
  {
   "cell_type": "markdown",
   "id": "3546bedf",
   "metadata": {},
   "source": [
    "But that’s not really how the song goes."
   ]
  },
  {
   "cell_type": "markdown",
   "id": "ea7d3d46",
   "metadata": {},
   "source": [
    "## 7. Implement exercise 7.1 to 7.5"
   ]
  },
  {
   "cell_type": "markdown",
   "id": "f7301f26",
   "metadata": {},
   "source": [
    "### 7.1 Multiple assignment"
   ]
  },
  {
   "cell_type": "markdown",
   "id": "4e7081e9",
   "metadata": {},
   "source": [
    "As you may have discovered, it is legal to make more than one assignment to the same\n",
    "variable. A new assignment makes an existing variable refer to a new value (and stop\n",
    "referring to the old value)."
   ]
  },
  {
   "cell_type": "code",
   "execution_count": 25,
   "id": "44de05a9",
   "metadata": {},
   "outputs": [
    {
     "name": "stdout",
     "output_type": "stream",
     "text": [
      "5\n",
      "7\n"
     ]
    }
   ],
   "source": [
    "bruce = 5\n",
    "print(bruce,)\n",
    "bruce = 7\n",
    "print(bruce)"
   ]
  },
  {
   "cell_type": "markdown",
   "id": "a9b901db",
   "metadata": {},
   "source": [
    "The output of this program is 5 7, because the first time bruce is printed, its value is 5,\n",
    "and the second time, its value is 7. The comma at the end of the first print statement\n",
    "suppresses the newline, which is why both outputs appear on the same line."
   ]
  },
  {
   "cell_type": "markdown",
   "id": "3f25181c",
   "metadata": {},
   "source": [
    "With multiple assignment it is especially important to distinguish between an assignment\n",
    "operation and a statement of equality. Because Python uses the equal sign (=) for assign-\n",
    "ment, it is tempting to interpret a statement like a = b as a statement of equality. It is not!"
   ]
  },
  {
   "cell_type": "markdown",
   "id": "5711f168",
   "metadata": {},
   "source": [
    "First, equality is a symmetric relation and assignment is not. For example, in mathematics,\n",
    "if a = 7 then 7 = a. But in Python, the statement a = 7 is legal and 7 = a is not.\n"
   ]
  },
  {
   "cell_type": "markdown",
   "id": "81862c25",
   "metadata": {},
   "source": [
    "Furthermore, in mathematics, a statement of equality is either true or false, for all time. If\n",
    "a = b now, then a will always equal b. In Python, an assignment statement can make two\n",
    "variables equal, but they don’t have to stay that way:"
   ]
  },
  {
   "cell_type": "code",
   "execution_count": 26,
   "id": "262190b0",
   "metadata": {},
   "outputs": [],
   "source": [
    "a = 5\n",
    "b = a       # a and b are now equal\n",
    "a = 3       # a and b are no longer equal"
   ]
  },
  {
   "cell_type": "markdown",
   "id": "e848cef1",
   "metadata": {},
   "source": [
    "The third line changes the value of a but does not change the value of b, so they are no\n",
    "longer equal."
   ]
  },
  {
   "cell_type": "markdown",
   "id": "4d516c65",
   "metadata": {},
   "source": [
    "Although multiple assignment is frequently helpful, you should use it with caution. If the\n",
    "values of variables change frequently, it can make the code difficult to read and debug."
   ]
  },
  {
   "cell_type": "markdown",
   "id": "8516a058",
   "metadata": {},
   "source": [
    "### 7.2 Updating variables"
   ]
  },
  {
   "cell_type": "markdown",
   "id": "390c6b01",
   "metadata": {},
   "source": [
    "One of the most common forms of multiple assignment is an update, where the new value\n",
    "of the variable depends on the old."
   ]
  },
  {
   "cell_type": "markdown",
   "id": "2ddbc5a2",
   "metadata": {},
   "source": [
    "x = x+1"
   ]
  },
  {
   "cell_type": "markdown",
   "id": "119a076a",
   "metadata": {},
   "source": [
    "This means “get the current value of x, add one, and then update x with the new value.”"
   ]
  },
  {
   "cell_type": "markdown",
   "id": "95896f54",
   "metadata": {},
   "source": [
    "If you try to update a variable that doesn’t exist, you get an error, because Python evaluates\n",
    "the right side before it assigns a value to x:"
   ]
  },
  {
   "cell_type": "code",
   "execution_count": 28,
   "id": "4c2de911",
   "metadata": {},
   "outputs": [
    {
     "ename": "NameError",
     "evalue": "name 'x' is not defined",
     "output_type": "error",
     "traceback": [
      "\u001b[0;31m---------------------------------------------------------------------------\u001b[0m",
      "\u001b[0;31mNameError\u001b[0m                                 Traceback (most recent call last)",
      "\u001b[1;32m/home/aadithyan/BTech/S5/Machine Learning/LAB/Lab 0/LAB 0.ipynb Cell 75\u001b[0m line \u001b[0;36m1\n\u001b[0;32m----> <a href='vscode-notebook-cell:/home/aadithyan/BTech/S5/Machine%20Learning/LAB/Lab%200/LAB%200.ipynb#Y150sZmlsZQ%3D%3D?line=0'>1</a>\u001b[0m x \u001b[39m=\u001b[39m x\u001b[39m+\u001b[39m\u001b[39m1\u001b[39m\n",
      "\u001b[0;31mNameError\u001b[0m: name 'x' is not defined"
     ]
    }
   ],
   "source": [
    "x = x+1"
   ]
  },
  {
   "cell_type": "markdown",
   "id": "02082c96",
   "metadata": {},
   "source": [
    "Before you can update a variable, you have to initialize it, usually with a simple assign-\n",
    "ment:"
   ]
  },
  {
   "cell_type": "code",
   "execution_count": 29,
   "id": "fc247dd1",
   "metadata": {},
   "outputs": [],
   "source": [
    "x = 0\n",
    "x = x+1"
   ]
  },
  {
   "cell_type": "markdown",
   "id": "c0eb6df6",
   "metadata": {},
   "source": [
    "Updating a variable by adding 1 is called an increment; subtracting 1 is called a decrement."
   ]
  },
  {
   "cell_type": "markdown",
   "id": "033c899e",
   "metadata": {},
   "source": [
    "### 7.3 The while statement"
   ]
  },
  {
   "cell_type": "markdown",
   "id": "4b7133a6",
   "metadata": {},
   "source": [
    "Computers are often used to automate repetitive tasks. Repeating identical or similar tasks\n",
    "without making errors is something that computers do well and people do poorly."
   ]
  },
  {
   "cell_type": "markdown",
   "id": "a8ce6456",
   "metadata": {},
   "source": [
    "We have seen two programs, countdown and print_n, that use recursion to perform rep-\n",
    "etition, which is also called iteration. Because iteration is so common, Python provides\n",
    "several language features to make it easier. One is the for statement we saw in Section 4.2.\n",
    "We’ll get back to that later."
   ]
  },
  {
   "cell_type": "markdown",
   "id": "1bbc7cf4",
   "metadata": {},
   "source": [
    "Another is the while statement. Here is a version of countdown that uses a while statement:"
   ]
  },
  {
   "cell_type": "code",
   "execution_count": 30,
   "id": "b47ace12",
   "metadata": {},
   "outputs": [],
   "source": [
    "def countdown(n):\n",
    "    while n > 0:\n",
    "        print(n)\n",
    "        n = n-1\n",
    "    print('Blastoff!')"
   ]
  },
  {
   "cell_type": "markdown",
   "id": "95e25be1",
   "metadata": {},
   "source": [
    "You can almost read the while statement as if it were English. It means, “While n is greater\n",
    "than 0, display the value of n and then reduce the value of n by 1. When you get to 0,\n",
    "display the word Blastoff!”"
   ]
  },
  {
   "cell_type": "markdown",
   "id": "bb7de8bf",
   "metadata": {},
   "source": [
    "More formally, here is the flow of execution for a while statement:"
   ]
  },
  {
   "cell_type": "markdown",
   "id": "420c92a8",
   "metadata": {},
   "source": [
    "1. Evaluate the condition, yielding True or False.\n",
    "2. If the condition is false, exit the while statement and continue execution at the next\n",
    "statement.\n",
    "3. If the condition is true, execute the body and then go back to step 1."
   ]
  },
  {
   "cell_type": "markdown",
   "id": "10b1b886",
   "metadata": {},
   "source": [
    "This type of flow is called a loop because the third step loops back around to the top."
   ]
  },
  {
   "cell_type": "markdown",
   "id": "d7823dae",
   "metadata": {},
   "source": [
    "The body of the loop should change the value of one or more variables so that eventu-\n",
    "ally the condition becomes false and the loop terminates. Otherwise the loop will repeat\n",
    "forever, which is called an infinite loop. An endless source of amusement for computer\n",
    "scientists is the observation that the directions on shampoo, “Lather, rinse, repeat,” are an\n",
    "infinite loop."
   ]
  },
  {
   "cell_type": "markdown",
   "id": "ecca5704",
   "metadata": {},
   "source": [
    "In the case of countdown, we can prove that the loop terminates because we know that the\n",
    "value of n is finite, and we can see that the value of n gets smaller each time through the\n",
    "loop, so eventually we have to get to 0. In other cases, it is not so easy to tell:"
   ]
  },
  {
   "cell_type": "code",
   "execution_count": 32,
   "id": "d4a68411",
   "metadata": {},
   "outputs": [],
   "source": [
    "def sequence(n):\n",
    "    while n != 1:\n",
    "        print(n)\n",
    "        if n%2 == 0:    # n is even\n",
    "            n = n/2\n",
    "        else:           # n is odd\n",
    "            n = n*3+1"
   ]
  },
  {
   "cell_type": "markdown",
   "id": "747b02a7",
   "metadata": {},
   "source": [
    "The condition for this loop is n != 1, so the loop will continue until n is 1, which makes\n",
    "the condition false."
   ]
  },
  {
   "cell_type": "markdown",
   "id": "96ceebd4",
   "metadata": {},
   "source": [
    "Each time through the loop, the program outputs the value of n and then checks whether\n",
    "it is even or odd. If it is even, n is divided by 2. If it is odd, the value of n is replaced with\n",
    "n*3+1. For example, if the argument passed to sequence is 3, the resulting sequence is 3,\n",
    "10, 5, 16, 8, 4, 2, 1."
   ]
  },
  {
   "cell_type": "markdown",
   "id": "0521b380",
   "metadata": {},
   "source": [
    "Since n sometimes increases and sometimes decreases, there is no obvious proof that n will\n",
    "ever reach 1, or that the program terminates. For some particular values of n, we can prove\n",
    "termination. For example, if the starting value is a power of two, then the value of n will be\n",
    "even each time through the loop until it reaches 1. The previous example ends with such a\n",
    "sequence, starting with 16."
   ]
  },
  {
   "cell_type": "markdown",
   "id": "4cd411d3",
   "metadata": {},
   "source": [
    "The hard question is whether we can prove that this program terminates for all posi-\n",
    "tive values of n. So far, no one has been able to prove it or disprove it! (See http:\n",
    "//en.wikipedia.org/wiki/Collatz_conjecture.)\n",
    "Exercise 7.1. Rewrite the function print_n from Section 5.8 using iteration instead of recursion."
   ]
  },
  {
   "cell_type": "markdown",
   "id": "1d60f360",
   "metadata": {},
   "source": [
    "### 7.4 break"
   ]
  },
  {
   "cell_type": "markdown",
   "id": "cd958fc2",
   "metadata": {},
   "source": [
    "Sometimes you don’t know it’s time to end a loop until you get half way through the body.\n",
    "In that case you can use the break statement to jump out of the loop."
   ]
  },
  {
   "cell_type": "markdown",
   "id": "51ca6783",
   "metadata": {},
   "source": [
    "For example, suppose you want to take input from the user until they type done. You could\n",
    "write:"
   ]
  },
  {
   "cell_type": "code",
   "execution_count": 33,
   "id": "06927e80",
   "metadata": {},
   "outputs": [],
   "source": [
    "while True:\n",
    "    line = input('> ')\n",
    "    if line == 'done':\n",
    "        break\n",
    "    print(line)\n",
    "print(\"Done!\")"
   ]
  },
  {
   "cell_type": "markdown",
   "id": "e60b4cc6",
   "metadata": {},
   "source": [
    "The loop condition is True, which is always true, so the loop runs until it hits the break\n",
    "statement."
   ]
  },
  {
   "cell_type": "markdown",
   "id": "b3419173",
   "metadata": {},
   "source": [
    "Each time through, it prompts the user with an angle bracket. If the user types done, the\n",
    "break statement exits the loop. Otherwise the program echoes whatever the user types and\n",
    "goes back to the top of the loop. Here’s a sample run:"
   ]
  },
  {
   "cell_type": "code",
   "execution_count": 34,
   "id": "0b93d9aa",
   "metadata": {},
   "outputs": [
    {
     "name": "stdout",
     "output_type": "stream",
     "text": [
      "not done\n",
      "Done!\n"
     ]
    }
   ],
   "source": [
    "while True:\n",
    "    line = input('> ')\n",
    "    if line == 'done':\n",
    "        break\n",
    "    print(line)\n",
    "print(\"Done!\")"
   ]
  },
  {
   "cell_type": "markdown",
   "id": "8d60fb26",
   "metadata": {},
   "source": [
    "This way of writing while loops is common because you can check the condition anywhere\n",
    "in the loop (not just at the top) and you can express the stop condition affirmatively (“stop\n",
    "when this happens”) rather than negatively (“keep going until that happens.”)."
   ]
  },
  {
   "cell_type": "markdown",
   "id": "d36a31ca",
   "metadata": {},
   "source": [
    "### 7.5 Square roots"
   ]
  }
 ],
 "metadata": {
  "kernelspec": {
   "display_name": "Python 3 (ipykernel)",
   "language": "python",
   "name": "python3"
  },
  "language_info": {
   "codemirror_mode": {
    "name": "ipython",
    "version": 3
   },
   "file_extension": ".py",
   "mimetype": "text/x-python",
   "name": "python",
   "nbconvert_exporter": "python",
   "pygments_lexer": "ipython3",
   "version": "3.10.12"
  }
 },
 "nbformat": 4,
 "nbformat_minor": 5
}
