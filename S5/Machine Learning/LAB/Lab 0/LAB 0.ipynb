{
 "cells": [
  {
   "cell_type": "markdown",
   "id": "cbd792b9-f68b-4408-8035-b3fda72664c2",
   "metadata": {},
   "source": [
    "# How To Load Machine Learning Data in Python"
   ]
  },
  {
   "cell_type": "code",
   "execution_count": null,
   "id": "bbf965e3-b823-483b-9e93-9fdf539f0176",
   "metadata": {},
   "outputs": [],
   "source": [
    "import csv\n",
    "import numpy\n",
    "filepath='./glass/'\n",
    "filename="
   ]
  }
 ],
 "metadata": {
  "kernelspec": {
   "display_name": "Python 3 (ipykernel)",
   "language": "python",
   "name": "python3"
  },
  "language_info": {
   "codemirror_mode": {
    "name": "ipython",
    "version": 3
   },
   "file_extension": ".py",
   "mimetype": "text/x-python",
   "name": "python",
   "nbconvert_exporter": "python",
   "pygments_lexer": "ipython3",
   "version": "3.10.12"
  }
 },
 "nbformat": 4,
 "nbformat_minor": 5
}
