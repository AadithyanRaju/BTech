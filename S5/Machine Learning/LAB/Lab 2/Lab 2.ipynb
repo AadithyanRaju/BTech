{
 "cells": [
  {
   "cell_type": "markdown",
   "metadata": {},
   "source": [
    "# PART A: Prerequisite for kNN implementation. (Q1. – Q.12 may help you to implement kNN on your own)"
   ]
  },
  {
   "cell_type": "markdown",
   "metadata": {},
   "source": [
    "## 1. Create two vectors using NumPy and check how many values are equal in the two vectors."
   ]
  },
  {
   "cell_type": "code",
   "execution_count": 792,
   "metadata": {},
   "outputs": [],
   "source": [
    "import numpy as np"
   ]
  },
  {
   "cell_type": "code",
   "execution_count": 793,
   "metadata": {},
   "outputs": [
    {
     "name": "stdout",
     "output_type": "stream",
     "text": [
      "2\n"
     ]
    }
   ],
   "source": [
    "a=[1,6,7,9]\n",
    "b=[1,0,6,9]\n",
    "print(np.sum(np.array(a)==np.array(b)))"
   ]
  },
  {
   "cell_type": "markdown",
   "metadata": {},
   "source": [
    "## 2. Matrix creation using NumPy"
   ]
  },
  {
   "cell_type": "markdown",
   "metadata": {},
   "source": [
    "### a. Create a matrix M with 10 rows and 3 columns and populate with random values."
   ]
  },
  {
   "cell_type": "code",
   "execution_count": 794,
   "metadata": {},
   "outputs": [
    {
     "name": "stdout",
     "output_type": "stream",
     "text": [
      "[[63, 57, 4], [59, 37, 54], [92, 75, 28], [2, 26, 62], [89, 11, 30], [35, 17, 87], [98, 66, 93], [91, 3, 50], [21, 50, 60], [77, 59, 84]]\n"
     ]
    }
   ],
   "source": [
    "from random import randint\n",
    "l=[]\n",
    "for row in range(10):\n",
    "    e=[]\n",
    "    for col in range(3):\n",
    "        e.append(randint(1,100))\n",
    "    l.append(e)\n",
    "print(l)"
   ]
  },
  {
   "cell_type": "code",
   "execution_count": 795,
   "metadata": {},
   "outputs": [],
   "source": [
    "M=np.array(l)"
   ]
  },
  {
   "cell_type": "markdown",
   "metadata": {},
   "source": [
    "### b. Print size of M. (M.shape)"
   ]
  },
  {
   "cell_type": "code",
   "execution_count": 796,
   "metadata": {},
   "outputs": [
    {
     "name": "stdout",
     "output_type": "stream",
     "text": [
      "(10, 3)\n"
     ]
    }
   ],
   "source": [
    "print(M.shape)"
   ]
  },
  {
   "cell_type": "markdown",
   "metadata": {},
   "source": [
    "### c. Print only the number of rows of M(M.shape[0])"
   ]
  },
  {
   "cell_type": "code",
   "execution_count": 797,
   "metadata": {},
   "outputs": [
    {
     "name": "stdout",
     "output_type": "stream",
     "text": [
      "10\n"
     ]
    }
   ],
   "source": [
    "print(M.shape[0])"
   ]
  },
  {
   "cell_type": "markdown",
   "metadata": {},
   "source": [
    "### d. Print only the number of columns of M"
   ]
  },
  {
   "cell_type": "code",
   "execution_count": 798,
   "metadata": {},
   "outputs": [
    {
     "name": "stdout",
     "output_type": "stream",
     "text": [
      "3\n"
     ]
    }
   ],
   "source": [
    "print(M.shape[1])"
   ]
  },
  {
   "cell_type": "markdown",
   "metadata": {},
   "source": [
    "### d. Print only the number of columns of M"
   ]
  },
  {
   "cell_type": "code",
   "execution_count": 799,
   "metadata": {},
   "outputs": [],
   "source": [
    "for row in range(M.shape[0]):\n",
    "    if M[row][0]+M[row][1] % 4 == 4:\n",
    "        M[row][2]=1\n",
    "    else:\n",
    "        M[row][2]=0"
   ]
  },
  {
   "cell_type": "code",
   "execution_count": 800,
   "metadata": {},
   "outputs": [
    {
     "name": "stdout",
     "output_type": "stream",
     "text": [
      "[[63 57  0]\n",
      " [59 37  0]\n",
      " [92 75  0]\n",
      " [ 2 26  1]\n",
      " [89 11  0]\n",
      " [35 17  0]\n",
      " [98 66  0]\n",
      " [91  3  0]\n",
      " [21 50  0]\n",
      " [77 59  0]]\n"
     ]
    }
   ],
   "source": [
    "print(M)"
   ]
  },
  {
   "cell_type": "markdown",
   "metadata": {},
   "source": [
    "## 3. Create pandas dataframe ‘df’ from the created matrix M and name the columns as X1, X2, and Y. (Refer Lab1)"
   ]
  },
  {
   "cell_type": "code",
   "execution_count": 801,
   "metadata": {},
   "outputs": [],
   "source": [
    "import pandas as pd\n",
    "import matplotlib.pyplot as plt"
   ]
  },
  {
   "cell_type": "code",
   "execution_count": 802,
   "metadata": {},
   "outputs": [],
   "source": [
    "df=pd.DataFrame(M,columns=['X1','X2','Y'])"
   ]
  },
  {
   "cell_type": "markdown",
   "metadata": {},
   "source": [
    "## 4. Plot X1 and X2 using scatter plot. Color (X1, X2) red if the corresponding Y is 1 else, blue."
   ]
  },
  {
   "cell_type": "code",
   "execution_count": 803,
   "metadata": {},
   "outputs": [
    {
     "data": {
      "image/png": "[encoded data removed]",
      "text/plain": [
       "<Figure size 640x480 with 1 Axes>"
      ]
     },
     "metadata": {},
     "output_type": "display_data"
    }
   ],
   "source": [
    "col = df.Y.map({0:'b', 1:'r'}) \n",
    "df.plot.scatter(x='X1', y='X2', c=col) \n",
    "plt.show()"
   ]
  },
  {
   "cell_type": "markdown",
   "metadata": {},
   "source": [
    "## 5"
   ]
  },
  {
   "cell_type": "markdown",
   "metadata": {},
   "source": [
    "### a. For two columns X1, X2, find squared error: (x1 – x2)^2"
   ]
  },
  {
   "cell_type": "code",
   "execution_count": 812,
   "metadata": {},
   "outputs": [
    {
     "data": {
      "text/plain": [
       "0      36\n",
       "1     484\n",
       "2     289\n",
       "3     576\n",
       "4    6084\n",
       "5     324\n",
       "6    1024\n",
       "7    7744\n",
       "8     841\n",
       "9     324\n",
       "dtype: int32"
      ]
     },
     "execution_count": 812,
     "metadata": {},
     "output_type": "execute_result"
    }
   ],
   "source": [
    "np.square(df.X1-df.X2)"
   ]
  },
  {
   "cell_type": "markdown",
   "metadata": {},
   "source": [
    "### b. Find the sum of the squared error."
   ]
  },
  {
   "cell_type": "code",
   "execution_count": 813,
   "metadata": {},
   "outputs": [
    {
     "name": "stdout",
     "output_type": "stream",
     "text": [
      "17726\n"
     ]
    }
   ],
   "source": [
    "print(np.sum(np.square(df.X1-df.X2)))"
   ]
  },
  {
   "cell_type": "markdown",
   "metadata": {},
   "source": [
    "## 6. Find Euclidean distance between the first two rows of matrix M. \n",
    "Compare the result with the inbuilt function numpy.linalg.norm(a-b), where a is the first \n",
    "row and b is the second row.\n"
   ]
  },
  {
   "cell_type": "code",
   "execution_count": 814,
   "metadata": {},
   "outputs": [],
   "source": [
    "def euclidean_distance(x,y):\n",
    "    return np.sqrt(np.sum(np.square(x-y)))"
   ]
  },
  {
   "cell_type": "code",
   "execution_count": 816,
   "metadata": {},
   "outputs": [
    {
     "name": "stdout",
     "output_type": "stream",
     "text": [
      "20.396078054371138\n"
     ]
    }
   ],
   "source": [
    "print(euclidean_distance(M[0],M[1]))"
   ]
  },
  {
   "cell_type": "code",
   "execution_count": 817,
   "metadata": {},
   "outputs": [
    {
     "data": {
      "text/plain": [
       "20.396078054371138"
      ]
     },
     "execution_count": 817,
     "metadata": {},
     "output_type": "execute_result"
    }
   ],
   "source": [
    "np.linalg.norm(M[0]-M[1])"
   ]
  },
  {
   "cell_type": "markdown",
   "metadata": {},
   "source": [
    "## 7. Create a vector V with two random values. Find the Euclidean distance between each row of M with V. Store the distance in a vector and print."
   ]
  },
  {
   "cell_type": "code",
   "execution_count": 825,
   "metadata": {},
   "outputs": [],
   "source": [
    "V=np.array([randint(1,100),randint(1,100)])"
   ]
  },
  {
   "cell_type": "code",
   "execution_count": 826,
   "metadata": {},
   "outputs": [
    {
     "data": {
      "text/plain": [
       "array([75, 18])"
      ]
     },
     "execution_count": 826,
     "metadata": {},
     "output_type": "execute_result"
    }
   ],
   "source": [
    "V"
   ]
  },
  {
   "cell_type": "code",
   "execution_count": 829,
   "metadata": {},
   "outputs": [],
   "source": [
    "Vd=np.array([euclidean_distance(V,M[i][:2]) for i in range(M.shape[0])])"
   ]
  },
  {
   "cell_type": "code",
   "execution_count": 830,
   "metadata": {},
   "outputs": [
    {
     "data": {
      "text/plain": [
       "array([40.80441153, 24.8394847 , 59.48108943, 73.43704787, 15.65247584,\n",
       "       40.01249805, 53.22593353, 21.9317122 , 62.76941931, 41.0487515 ])"
      ]
     },
     "execution_count": 830,
     "metadata": {},
     "output_type": "execute_result"
    }
   ],
   "source": [
    "Vd"
   ]
  },
  {
   "cell_type": "markdown",
   "metadata": {},
   "source": [
    "## 8. Create a matrix A with 10 rows and 2 columns. Add a new column to a matrix. (Use np.column_stack). Add a new row to a matrix(Use np.vstack)"
   ]
  },
  {
   "cell_type": "code",
   "execution_count": 831,
   "metadata": {},
   "outputs": [],
   "source": [
    "M2=[]\n",
    "for row in range(10):\n",
    "    e=[]\n",
    "    for col in range(2):\n",
    "        e.append(randint(1,100))\n",
    "    M2.append(e) "
   ]
  },
  {
   "cell_type": "code",
   "execution_count": 834,
   "metadata": {},
   "outputs": [
    {
     "name": "stdout",
     "output_type": "stream",
     "text": [
      "[[ 56  26]\n",
      " [ 28  33]\n",
      " [ 88  48]\n",
      " [ 43  77]\n",
      " [ 13 100]\n",
      " [ 35  96]\n",
      " [ 58  32]\n",
      " [100  37]\n",
      " [ 29  70]\n",
      " [ 43   6]]\n"
     ]
    }
   ],
   "source": [
    "A=np.array(M2);print(A)"
   ]
  },
  {
   "cell_type": "code",
   "execution_count": 835,
   "metadata": {},
   "outputs": [
    {
     "name": "stdout",
     "output_type": "stream",
     "text": [
      "[16  6 91 74 95 88  8 72 58 15]\n"
     ]
    }
   ],
   "source": [
    "C=np.array([randint(1,100) for i in range(10)]);print(C)"
   ]
  },
  {
   "cell_type": "code",
   "execution_count": 836,
   "metadata": {},
   "outputs": [
    {
     "name": "stdout",
     "output_type": "stream",
     "text": [
      "[[ 56  26  16]\n",
      " [ 28  33   6]\n",
      " [ 88  48  91]\n",
      " [ 43  77  74]\n",
      " [ 13 100  95]\n",
      " [ 35  96  88]\n",
      " [ 58  32   8]\n",
      " [100  37  72]\n",
      " [ 29  70  58]\n",
      " [ 43   6  15]]\n"
     ]
    }
   ],
   "source": [
    "A=np.column_stack((A,C));print(A)"
   ]
  },
  {
   "cell_type": "code",
   "execution_count": 837,
   "metadata": {},
   "outputs": [
    {
     "name": "stdout",
     "output_type": "stream",
     "text": [
      "[75 95 24]\n"
     ]
    }
   ],
   "source": [
    "R=np.array([randint(1,100) for i in range(3)]);print(R)"
   ]
  },
  {
   "cell_type": "code",
   "execution_count": 838,
   "metadata": {},
   "outputs": [
    {
     "name": "stdout",
     "output_type": "stream",
     "text": [
      "[[ 56  26  16]\n",
      " [ 28  33   6]\n",
      " [ 88  48  91]\n",
      " [ 43  77  74]\n",
      " [ 13 100  95]\n",
      " [ 35  96  88]\n",
      " [ 58  32   8]\n",
      " [100  37  72]\n",
      " [ 29  70  58]\n",
      " [ 43   6  15]\n",
      " [ 75  95  24]]\n"
     ]
    }
   ],
   "source": [
    "A=np.vstack((A,R));print(A)"
   ]
  },
  {
   "cell_type": "markdown",
   "metadata": {},
   "source": [
    "## 9. Create a matrix M’ with two columns X1’ and X2’ and populate with random values. Find the Euclidean distance between each row of M’ with each row of M. Store the distance in a matrix Dist with 3 columns. The first column is the row id of M, the second column is the row id of M’, and the third column is the distance value. Compare the result with the following code"
   ]
  },
  {
   "cell_type": "code",
   "execution_count": 840,
   "metadata": {},
   "outputs": [
    {
     "name": "stdout",
     "output_type": "stream",
     "text": [
      "[[83 83]\n",
      " [83 83]\n",
      " [83 83]\n",
      " [83 83]\n",
      " [83 83]\n",
      " [83 83]\n",
      " [83 83]\n",
      " [83 83]\n",
      " [83 83]\n",
      " [83 83]]\n"
     ]
    }
   ],
   "source": [
    "M=np.array([[randint(0,100)]*2]*10);print(M)"
   ]
  },
  {
   "cell_type": "code",
   "execution_count": 861,
   "metadata": {},
   "outputs": [],
   "source": [
    "dA=[]\n",
    "for row1 in range(A.shape[0]):\n",
    "    for row2 in range(A.shape[0]):\n",
    "        dA.append([row1,row2,euclidean_distance(A[row1],A[row2])])"
   ]
  },
  {
   "cell_type": "code",
   "execution_count": 862,
   "metadata": {},
   "outputs": [
    {
     "name": "stdout",
     "output_type": "stream",
     "text": [
      "[[  0.           0.           0.        ]\n",
      " [  0.           1.          30.5450487 ]\n",
      " [  0.           2.          84.4570897 ]\n",
      " [  0.           3.          78.319857  ]\n",
      " [  0.           4.         116.47317288]\n",
      " [  0.           5.         102.59142264]\n",
      " [  0.           6.          10.19803903]\n",
      " [  0.           7.          72.0624729 ]\n",
      " [  0.           8.          66.55073253]\n",
      " [  0.           9.          23.87467277]\n",
      " [  0.          10.          72.01388755]\n",
      " [  1.           0.          30.5450487 ]\n",
      " [  1.           1.           0.        ]\n",
      " [  1.           2.         105.11898021]\n",
      " [  1.           3.          82.37111144]\n",
      " [  1.           4.         112.40551588]\n",
      " [  1.           5.         103.64362016]\n",
      " [  1.           6.          30.08321791]\n",
      " [  1.           7.          97.75479528]\n",
      " [  1.           8.          63.82789359]\n",
      " [  1.           9.          32.17141588]\n",
      " [  1.          10.          79.85612062]\n",
      " [  2.           0.          84.4570897 ]\n",
      " [  2.           1.         105.11898021]\n",
      " [  2.           2.           0.        ]\n",
      " [  2.           3.          56.16938668]\n",
      " [  2.           4.          91.35097153]\n",
      " [  2.           5.          71.56814934]\n",
      " [  2.           6.          89.69392399]\n",
      " [  2.           7.          25.01999201]\n",
      " [  2.           8.          71.09149035]\n",
      " [  2.           9.          97.80081799]\n",
      " [  2.          10.          82.8673639 ]\n",
      " [  3.           0.          78.319857  ]\n",
      " [  3.           1.          82.37111144]\n",
      " [  3.           2.          56.16938668]\n",
      " [  3.           3.           0.        ]\n",
      " [  3.           4.          43.24349662]\n",
      " [  3.           5.          24.91987159]\n",
      " [  3.           6.          81.2773031 ]\n",
      " [  3.           7.          69.6634768 ]\n",
      " [  3.           8.          22.38302929]\n",
      " [  3.           9.          92.31467922]\n",
      " [  3.          10.          62.03224968]\n",
      " [  4.           0.         116.47317288]\n",
      " [  4.           1.         112.40551588]\n",
      " [  4.           2.          91.35097153]\n",
      " [  4.           3.          43.24349662]\n",
      " [  4.           4.           0.        ]\n",
      " [  4.           5.          23.43074903]\n",
      " [  4.           6.         119.23925528]\n",
      " [  4.           7.         109.84989759]\n",
      " [  4.           8.          50.24937811]\n",
      " [  4.           9.         127.02755607]\n",
      " [  4.          10.          94.39279634]\n",
      " [  5.           0.         102.59142264]\n",
      " [  5.           1.         103.64362016]\n",
      " [  5.           2.          71.56814934]\n",
      " [  5.           3.          24.91987159]\n",
      " [  5.           4.          23.43074903]\n",
      " [  5.           5.           0.        ]\n",
      " [  5.           6.         105.        ]\n",
      " [  5.           7.          89.23003978]\n",
      " [  5.           8.          40.1497198 ]\n",
      " [  5.           9.         116.15937328]\n",
      " [  5.          10.          75.47847375]\n",
      " [  6.           0.          10.19803903]\n",
      " [  6.           1.          30.08321791]\n",
      " [  6.           2.          89.69392399]\n",
      " [  6.           3.          81.2773031 ]\n",
      " [  6.           4.         119.23925528]\n",
      " [  6.           5.         105.        ]\n",
      " [  6.           6.           0.        ]\n",
      " [  6.           7.          76.71375366]\n",
      " [  6.           8.          69.17369442]\n",
      " [  6.           9.          30.82207001]\n",
      " [  6.          10.          67.18630813]\n",
      " [  7.           0.          72.0624729 ]\n",
      " [  7.           1.          97.75479528]\n",
      " [  7.           2.          25.01999201]\n",
      " [  7.           3.          69.6634768 ]\n",
      " [  7.           4.         109.84989759]\n",
      " [  7.           5.          89.23003978]\n",
      " [  7.           6.          76.71375366]\n",
      " [  7.           7.           0.        ]\n",
      " [  7.           8.          79.5361553 ]\n",
      " [  7.           9.          86.36550237]\n",
      " [  7.          10.          79.32843122]\n",
      " [  8.           0.          66.55073253]\n",
      " [  8.           1.          63.82789359]\n",
      " [  8.           2.          71.09149035]\n",
      " [  8.           3.          22.38302929]\n",
      " [  8.           4.          50.24937811]\n",
      " [  8.           5.          40.1497198 ]\n",
      " [  8.           6.          69.17369442]\n",
      " [  8.           7.          79.5361553 ]\n",
      " [  8.           8.           0.        ]\n",
      " [  8.           9.          78.36453279]\n",
      " [  8.          10.          62.42595614]\n",
      " [  9.           0.          23.87467277]\n",
      " [  9.           1.          32.17141588]\n",
      " [  9.           2.          97.80081799]\n",
      " [  9.           3.          92.31467922]\n",
      " [  9.           4.         127.02755607]\n",
      " [  9.           5.         116.15937328]\n",
      " [  9.           6.          30.82207001]\n",
      " [  9.           7.          86.36550237]\n",
      " [  9.           8.          78.36453279]\n",
      " [  9.           9.           0.        ]\n",
      " [  9.          10.          95.00526301]\n",
      " [ 10.           0.          72.01388755]\n",
      " [ 10.           1.          79.85612062]\n",
      " [ 10.           2.          82.8673639 ]\n",
      " [ 10.           3.          62.03224968]\n",
      " [ 10.           4.          94.39279634]\n",
      " [ 10.           5.          75.47847375]\n",
      " [ 10.           6.          67.18630813]\n",
      " [ 10.           7.          79.32843122]\n",
      " [ 10.           8.          62.42595614]\n",
      " [ 10.           9.          95.00526301]\n",
      " [ 10.          10.           0.        ]]\n"
     ]
    }
   ],
   "source": [
    "dA=np.array(dA);print(dA)"
   ]
  },
  {
   "cell_type": "code",
   "execution_count": 863,
   "metadata": {},
   "outputs": [
    {
     "data": {
      "text/plain": [
       "array([[ 0.        , 30.56141358, 84.48076704, ..., 63.72597587,\n",
       "        95.95311355, 14.14213562],\n",
       "       [30.56141358,  0.        , 53.92131457, ..., 34.13784204,\n",
       "        65.72000631, 33.37663854],\n",
       "       [84.48076704, 53.92131457,  0.        , ..., 24.92731124,\n",
       "        16.13269848, 85.42247948],\n",
       "       ...,\n",
       "       [63.72597587, 34.13784204, 24.92731124, ...,  0.        ,\n",
       "        32.59465042, 62.45798588],\n",
       "       [95.95311355, 65.72000631, 16.13269848, ..., 32.59465042,\n",
       "         0.        , 95.01052573],\n",
       "       [14.14213562, 33.37663854, 85.42247948, ..., 62.45798588,\n",
       "        95.01052573,  0.        ]])"
      ]
     },
     "execution_count": 863,
     "metadata": {},
     "output_type": "execute_result"
    }
   ],
   "source": [
    "from sklearn.metrics.pairwise import euclidean_distances \n",
    "euclidean_distances(dA, dA)"
   ]
  },
  {
   "cell_type": "markdown",
   "metadata": {},
   "source": [
    "## 10. Sort the Dist matrix based on the last column. \n",
    "Use(print(a[a[:,n].argsort()])) where a is the matrix and n is the column based on which you need to sort."
   ]
  },
  {
   "cell_type": "code",
   "execution_count": 865,
   "metadata": {},
   "outputs": [
    {
     "name": "stdout",
     "output_type": "stream",
     "text": [
      "[[  0.           0.           0.        ]\n",
      " [  9.           9.           0.        ]\n",
      " [  8.           8.           0.        ]\n",
      " [  7.           7.           0.        ]\n",
      " [  6.           6.           0.        ]\n",
      " [  4.           4.           0.        ]\n",
      " [  3.           3.           0.        ]\n",
      " [  2.           2.           0.        ]\n",
      " [  1.           1.           0.        ]\n",
      " [  5.           5.           0.        ]\n",
      " [ 10.          10.           0.        ]\n",
      " [  6.           0.          10.19803903]\n",
      " [  0.           6.          10.19803903]\n",
      " [  8.           3.          22.38302929]\n",
      " [  3.           8.          22.38302929]\n",
      " [  4.           5.          23.43074903]\n",
      " [  5.           4.          23.43074903]\n",
      " [  0.           9.          23.87467277]\n",
      " [  9.           0.          23.87467277]\n",
      " [  5.           3.          24.91987159]\n",
      " [  3.           5.          24.91987159]\n",
      " [  7.           2.          25.01999201]\n",
      " [  2.           7.          25.01999201]\n",
      " [  6.           1.          30.08321791]\n",
      " [  1.           6.          30.08321791]\n",
      " [  1.           0.          30.5450487 ]\n",
      " [  0.           1.          30.5450487 ]\n",
      " [  9.           6.          30.82207001]\n",
      " [  6.           9.          30.82207001]\n",
      " [  1.           9.          32.17141588]\n",
      " [  9.           1.          32.17141588]\n",
      " [  5.           8.          40.1497198 ]\n",
      " [  8.           5.          40.1497198 ]\n",
      " [  3.           4.          43.24349662]\n",
      " [  4.           3.          43.24349662]\n",
      " [  8.           4.          50.24937811]\n",
      " [  4.           8.          50.24937811]\n",
      " [  2.           3.          56.16938668]\n",
      " [  3.           2.          56.16938668]\n",
      " [ 10.           3.          62.03224968]\n",
      " [  3.          10.          62.03224968]\n",
      " [ 10.           8.          62.42595614]\n",
      " [  8.          10.          62.42595614]\n",
      " [  8.           1.          63.82789359]\n",
      " [  1.           8.          63.82789359]\n",
      " [  8.           0.          66.55073253]\n",
      " [  0.           8.          66.55073253]\n",
      " [  6.          10.          67.18630813]\n",
      " [ 10.           6.          67.18630813]\n",
      " [  6.           8.          69.17369442]\n",
      " [  8.           6.          69.17369442]\n",
      " [  3.           7.          69.6634768 ]\n",
      " [  7.           3.          69.6634768 ]\n",
      " [  8.           2.          71.09149035]\n",
      " [  2.           8.          71.09149035]\n",
      " [  2.           5.          71.56814934]\n",
      " [  5.           2.          71.56814934]\n",
      " [ 10.           0.          72.01388755]\n",
      " [  0.          10.          72.01388755]\n",
      " [  7.           0.          72.0624729 ]\n",
      " [  0.           7.          72.0624729 ]\n",
      " [ 10.           5.          75.47847375]\n",
      " [  5.          10.          75.47847375]\n",
      " [  7.           6.          76.71375366]\n",
      " [  6.           7.          76.71375366]\n",
      " [  3.           0.          78.319857  ]\n",
      " [  0.           3.          78.319857  ]\n",
      " [  9.           8.          78.36453279]\n",
      " [  8.           9.          78.36453279]\n",
      " [ 10.           7.          79.32843122]\n",
      " [  7.          10.          79.32843122]\n",
      " [  7.           8.          79.5361553 ]\n",
      " [  8.           7.          79.5361553 ]\n",
      " [ 10.           1.          79.85612062]\n",
      " [  1.          10.          79.85612062]\n",
      " [  6.           3.          81.2773031 ]\n",
      " [  3.           6.          81.2773031 ]\n",
      " [  1.           3.          82.37111144]\n",
      " [  3.           1.          82.37111144]\n",
      " [ 10.           2.          82.8673639 ]\n",
      " [  2.          10.          82.8673639 ]\n",
      " [  2.           0.          84.4570897 ]\n",
      " [  0.           2.          84.4570897 ]\n",
      " [  9.           7.          86.36550237]\n",
      " [  7.           9.          86.36550237]\n",
      " [  7.           5.          89.23003978]\n",
      " [  5.           7.          89.23003978]\n",
      " [  6.           2.          89.69392399]\n",
      " [  2.           6.          89.69392399]\n",
      " [  4.           2.          91.35097153]\n",
      " [  2.           4.          91.35097153]\n",
      " [  3.           9.          92.31467922]\n",
      " [  9.           3.          92.31467922]\n",
      " [  4.          10.          94.39279634]\n",
      " [ 10.           4.          94.39279634]\n",
      " [ 10.           9.          95.00526301]\n",
      " [  9.          10.          95.00526301]\n",
      " [  7.           1.          97.75479528]\n",
      " [  1.           7.          97.75479528]\n",
      " [  9.           2.          97.80081799]\n",
      " [  2.           9.          97.80081799]\n",
      " [  0.           5.         102.59142264]\n",
      " [  5.           0.         102.59142264]\n",
      " [  5.           1.         103.64362016]\n",
      " [  1.           5.         103.64362016]\n",
      " [  6.           5.         105.        ]\n",
      " [  5.           6.         105.        ]\n",
      " [  1.           2.         105.11898021]\n",
      " [  2.           1.         105.11898021]\n",
      " [  4.           7.         109.84989759]\n",
      " [  7.           4.         109.84989759]\n",
      " [  1.           4.         112.40551588]\n",
      " [  4.           1.         112.40551588]\n",
      " [  9.           5.         116.15937328]\n",
      " [  5.           9.         116.15937328]\n",
      " [  0.           4.         116.47317288]\n",
      " [  4.           0.         116.47317288]\n",
      " [  4.           6.         119.23925528]\n",
      " [  6.           4.         119.23925528]\n",
      " [  4.           9.         127.02755607]\n",
      " [  9.           4.         127.02755607]]\n"
     ]
    }
   ],
   "source": [
    "dAs=dA[dA[:,2].argsort()]\n",
    "print(dAs)"
   ]
  },
  {
   "cell_type": "markdown",
   "metadata": {},
   "source": [
    "## 11. Get the initial k rows from the sorted matrix\n"
   ]
  },
  {
   "cell_type": "code",
   "execution_count": 887,
   "metadata": {},
   "outputs": [
    {
     "data": {
      "text/plain": [
       "array([[ 0.        ,  0.        ,  0.        ],\n",
       "       [ 9.        ,  9.        ,  0.        ],\n",
       "       [ 8.        ,  8.        ,  0.        ],\n",
       "       [ 7.        ,  7.        ,  0.        ],\n",
       "       [ 6.        ,  6.        ,  0.        ],\n",
       "       [ 4.        ,  4.        ,  0.        ],\n",
       "       [ 3.        ,  3.        ,  0.        ],\n",
       "       [ 2.        ,  2.        ,  0.        ],\n",
       "       [ 1.        ,  1.        ,  0.        ],\n",
       "       [ 5.        ,  5.        ,  0.        ],\n",
       "       [10.        , 10.        ,  0.        ],\n",
       "       [ 6.        ,  0.        , 10.19803903],\n",
       "       [ 0.        ,  6.        , 10.19803903],\n",
       "       [ 8.        ,  3.        , 22.38302929],\n",
       "       [ 3.        ,  8.        , 22.38302929],\n",
       "       [ 4.        ,  5.        , 23.43074903],\n",
       "       [ 5.        ,  4.        , 23.43074903],\n",
       "       [ 0.        ,  9.        , 23.87467277],\n",
       "       [ 9.        ,  0.        , 23.87467277],\n",
       "       [ 5.        ,  3.        , 24.91987159],\n",
       "       [ 3.        ,  5.        , 24.91987159],\n",
       "       [ 7.        ,  2.        , 25.01999201],\n",
       "       [ 2.        ,  7.        , 25.01999201],\n",
       "       [ 6.        ,  1.        , 30.08321791],\n",
       "       [ 1.        ,  6.        , 30.08321791],\n",
       "       [ 1.        ,  0.        , 30.5450487 ],\n",
       "       [ 0.        ,  1.        , 30.5450487 ],\n",
       "       [ 9.        ,  6.        , 30.82207001],\n",
       "       [ 6.        ,  9.        , 30.82207001],\n",
       "       [ 1.        ,  9.        , 32.17141588],\n",
       "       [ 9.        ,  1.        , 32.17141588],\n",
       "       [ 5.        ,  8.        , 40.1497198 ],\n",
       "       [ 8.        ,  5.        , 40.1497198 ],\n",
       "       [ 3.        ,  4.        , 43.24349662],\n",
       "       [ 4.        ,  3.        , 43.24349662],\n",
       "       [ 8.        ,  4.        , 50.24937811],\n",
       "       [ 4.        ,  8.        , 50.24937811],\n",
       "       [ 2.        ,  3.        , 56.16938668],\n",
       "       [ 3.        ,  2.        , 56.16938668],\n",
       "       [10.        ,  3.        , 62.03224968],\n",
       "       [ 3.        , 10.        , 62.03224968],\n",
       "       [10.        ,  8.        , 62.42595614],\n",
       "       [ 8.        , 10.        , 62.42595614],\n",
       "       [ 8.        ,  1.        , 63.82789359],\n",
       "       [ 1.        ,  8.        , 63.82789359],\n",
       "       [ 8.        ,  0.        , 66.55073253],\n",
       "       [ 0.        ,  8.        , 66.55073253],\n",
       "       [ 6.        , 10.        , 67.18630813],\n",
       "       [10.        ,  6.        , 67.18630813],\n",
       "       [ 6.        ,  8.        , 69.17369442],\n",
       "       [ 8.        ,  6.        , 69.17369442],\n",
       "       [ 3.        ,  7.        , 69.6634768 ],\n",
       "       [ 7.        ,  3.        , 69.6634768 ],\n",
       "       [ 8.        ,  2.        , 71.09149035],\n",
       "       [ 2.        ,  8.        , 71.09149035],\n",
       "       [ 2.        ,  5.        , 71.56814934],\n",
       "       [ 5.        ,  2.        , 71.56814934],\n",
       "       [10.        ,  0.        , 72.01388755],\n",
       "       [ 0.        , 10.        , 72.01388755],\n",
       "       [ 7.        ,  0.        , 72.0624729 ],\n",
       "       [ 0.        ,  7.        , 72.0624729 ],\n",
       "       [10.        ,  5.        , 75.47847375],\n",
       "       [ 5.        , 10.        , 75.47847375],\n",
       "       [ 7.        ,  6.        , 76.71375366],\n",
       "       [ 6.        ,  7.        , 76.71375366],\n",
       "       [ 3.        ,  0.        , 78.319857  ],\n",
       "       [ 0.        ,  3.        , 78.319857  ],\n",
       "       [ 9.        ,  8.        , 78.36453279],\n",
       "       [ 8.        ,  9.        , 78.36453279],\n",
       "       [10.        ,  7.        , 79.32843122],\n",
       "       [ 7.        , 10.        , 79.32843122],\n",
       "       [ 7.        ,  8.        , 79.5361553 ],\n",
       "       [ 8.        ,  7.        , 79.5361553 ],\n",
       "       [10.        ,  1.        , 79.85612062],\n",
       "       [ 1.        , 10.        , 79.85612062],\n",
       "       [ 6.        ,  3.        , 81.2773031 ],\n",
       "       [ 3.        ,  6.        , 81.2773031 ],\n",
       "       [ 1.        ,  3.        , 82.37111144],\n",
       "       [ 3.        ,  1.        , 82.37111144],\n",
       "       [10.        ,  2.        , 82.8673639 ],\n",
       "       [ 2.        , 10.        , 82.8673639 ],\n",
       "       [ 2.        ,  0.        , 84.4570897 ],\n",
       "       [ 0.        ,  2.        , 84.4570897 ],\n",
       "       [ 9.        ,  7.        , 86.36550237],\n",
       "       [ 7.        ,  9.        , 86.36550237],\n",
       "       [ 7.        ,  5.        , 89.23003978],\n",
       "       [ 5.        ,  7.        , 89.23003978],\n",
       "       [ 6.        ,  2.        , 89.69392399],\n",
       "       [ 2.        ,  6.        , 89.69392399],\n",
       "       [ 4.        ,  2.        , 91.35097153],\n",
       "       [ 2.        ,  4.        , 91.35097153],\n",
       "       [ 3.        ,  9.        , 92.31467922],\n",
       "       [ 9.        ,  3.        , 92.31467922],\n",
       "       [ 4.        , 10.        , 94.39279634],\n",
       "       [10.        ,  4.        , 94.39279634],\n",
       "       [10.        ,  9.        , 95.00526301],\n",
       "       [ 9.        , 10.        , 95.00526301],\n",
       "       [ 7.        ,  1.        , 97.75479528],\n",
       "       [ 1.        ,  7.        , 97.75479528],\n",
       "       [ 9.        ,  2.        , 97.80081799]])"
      ]
     },
     "execution_count": 887,
     "metadata": {},
     "output_type": "execute_result"
    }
   ],
   "source": [
    "k=100\n",
    "dAs[:k]"
   ]
  },
  {
   "cell_type": "markdown",
   "metadata": {},
   "source": [
    "## 12. Find the number of 1s and 0s in the k rows above. Print 1 if the number of 1s is more else, print 0."
   ]
  },
  {
   "cell_type": "code",
   "execution_count": 888,
   "metadata": {},
   "outputs": [
    {
     "name": "stdout",
     "output_type": "stream",
     "text": [
      "0\n"
     ]
    }
   ],
   "source": [
    "c1,c0=0,0\n",
    "for i in dAs[:k]:\n",
    "    for j in range(3):\n",
    "        if i[j]==0:\n",
    "            c0+=1\n",
    "        elif i[j]==1:\n",
    "            c1+=1\n",
    "if c1>c0:\n",
    "    print('1')\n",
    "else:\n",
    "    print('0')"
   ]
  },
  {
   "cell_type": "markdown",
   "metadata": {},
   "source": [
    "# PART B : KNN implementation"
   ]
  },
  {
   "cell_type": "markdown",
   "metadata": {},
   "source": [
    "## a. Load diabetes dataset as done in Lab 1."
   ]
  },
  {
   "cell_type": "code",
   "execution_count": 889,
   "metadata": {},
   "outputs": [
    {
     "name": "stdout",
     "output_type": "stream",
     "text": [
      "(768, 9)\n"
     ]
    }
   ],
   "source": [
    "from pandas import read_csv\n",
    "path='diabetes_dataset.csv'\n",
    "data=read_csv(path)\n",
    "print(data.shape) # to know the size of data"
   ]
  },
  {
   "cell_type": "markdown",
   "metadata": {},
   "source": [
    "## b. Peek at a few rows as done in Lab 1"
   ]
  },
  {
   "cell_type": "code",
   "execution_count": null,
   "metadata": {},
   "outputs": [
    {
     "name": "stdout",
     "output_type": "stream",
     "text": [
      "   Pregnancies  Glucose  BloodPressure  SkinThickness  Insulin   BMI  \\\n",
      "0            6      148             72             35        0  33.6   \n",
      "1            1       85             66             29        0  26.6   \n",
      "2            8      183             64              0        0  23.3   \n",
      "3            1       89             66             23       94  28.1   \n",
      "\n",
      "   DiabetesPedigreeFunction  Age  Outcome  \n",
      "0                     0.627   50        1  \n",
      "1                     0.351   31        0  \n",
      "2                     0.672   32        1  \n",
      "3                     0.167   21        0  \n"
     ]
    }
   ],
   "source": [
    "print(data.head(4))"
   ]
  },
  {
   "cell_type": "markdown",
   "metadata": {},
   "source": [
    "## c. Split the dataset into 80% training and 20% testing using numpy slicing."
   ]
  },
  {
   "cell_type": "code",
   "execution_count": 890,
   "metadata": {},
   "outputs": [],
   "source": [
    "traindata=round(data.shape[0]*0.8)\n",
    "testdata=data.shape[0]-traindata"
   ]
  },
  {
   "cell_type": "code",
   "execution_count": 891,
   "metadata": {},
   "outputs": [
    {
     "name": "stdout",
     "output_type": "stream",
     "text": [
      "614 154\n"
     ]
    }
   ],
   "source": [
    "print(traindata,testdata)"
   ]
  },
  {
   "cell_type": "markdown",
   "metadata": {},
   "source": [
    "## d. Use the inbuilt function to do splitting and interpret results"
   ]
  },
  {
   "cell_type": "code",
   "execution_count": 892,
   "metadata": {},
   "outputs": [
    {
     "name": "stdout",
     "output_type": "stream",
     "text": [
      "[[  5.    147.     75.    ...  29.9     0.434  28.   ]\n",
      " [  8.    151.     78.    ...  42.9     0.516  36.   ]\n",
      " [ 13.    104.     72.    ...  31.2     0.465  38.   ]\n",
      " ...\n",
      " [  7.    114.     76.    ...  23.8     0.466  31.   ]\n",
      " [  3.     61.     82.    ...  34.4     0.243  46.   ]\n",
      " [  9.    119.     80.    ...  29.      0.263  29.   ]]\n"
     ]
    }
   ],
   "source": [
    "from sklearn.model_selection import train_test_split \n",
    "arr=data.values \n",
    "X=arr[:,0:8] \n",
    "Y=arr[:,8] \n",
    "X_train, X_test, y_train, y_test = train_test_split(X, Y, test_size=0.20) \n",
    "print( X_test)"
   ]
  },
  {
   "cell_type": "markdown",
   "metadata": {},
   "source": [
    "## e. Do normalisation of training as well as testing dataset using StandardScaler as done in Lab 1. Is it required to execute the following code for X_test, too?"
   ]
  },
  {
   "cell_type": "markdown",
   "metadata": {},
   "source": [
    "plot the data"
   ]
  },
  {
   "cell_type": "code",
   "execution_count": null,
   "metadata": {},
   "outputs": [],
   "source": []
  }
 ],
 "metadata": {
  "kernelspec": {
   "display_name": "Python 3",
   "language": "python",
   "name": "python3"
  },
  "language_info": {
   "codemirror_mode": {
    "name": "ipython",
    "version": 3
   },
   "file_extension": ".py",
   "mimetype": "text/x-python",
   "name": "python",
   "nbconvert_exporter": "python",
   "pygments_lexer": "ipython3",
   "version": "3.12.0"
  }
 },
 "nbformat": 4,
 "nbformat_minor": 2
}
