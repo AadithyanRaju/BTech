{
 "cells": [
  {
   "cell_type": "markdown",
   "id": "e95ca4d5-287b-490e-8a65-2e95318eaed7",
   "metadata": {},
   "source": [
    "# Exercise 1: PRAACTICE PANDAS LIBRARY ON diabetes DATASET"
   ]
  },
  {
   "cell_type": "markdown",
   "id": "234cbef1-a273-48d0-ada6-8065b02dcd12",
   "metadata": {},
   "source": [
    "## Importing pandas\n",
    "To begin working with pandas, import the pandas Python package as shown below. When\r\n",
    "importing pandas, the most common alias for pandas is pd."
   ]
  },
  {
   "cell_type": "code",
   "execution_count": 3,
   "id": "7c06ebb7-1e72-4689-a621-7beaea2229b9",
   "metadata": {},
   "outputs": [],
   "source": [
    "import pandas as pd"
   ]
  },
  {
   "cell_type": "markdown",
   "id": "919410ba-cf31-40a2-a736-ac63a061472b",
   "metadata": {},
   "source": [
    "## Load Dataset"
   ]
  },
  {
   "cell_type": "markdown",
   "id": "12aa6963-9819-4374-846f-e619399ec09a",
   "metadata": {},
   "source": [
    "### Mounting Google Drive"
   ]
  },
  {
   "cell_type": "code",
   "execution_count": null,
   "id": "1eedcfba-90c7-44dc-9f13-c3bc1d9d4411",
   "metadata": {},
   "outputs": [],
   "source": [
    "from google.colab import drive\n",
    "drive.mount('/content/drive')"
   ]
  },
  {
   "cell_type": "markdown",
   "id": "c43f1626-6e25-45f2-bac1-087591e93779",
   "metadata": {},
   "source": [
    "### Importing csv files\n",
    "Use read_csv() with the path to the CSV file to read a comma-separated values\r\n",
    "file."
   ]
  },
  {
   "cell_type": "code",
   "execution_count": 4,
   "id": "76cebf73-9f59-43a2-bfff-d7758c6e65e0",
   "metadata": {},
   "outputs": [],
   "source": [
    "df=pd.read_csv('diabetes.csv')"
   ]
  },
  {
   "cell_type": "markdown",
   "id": "4b3b2f3d-449b-4776-8493-9a0b835d3afe",
   "metadata": {},
   "source": [
    "### Importing Text Files"
   ]
  },
  {
   "cell_type": "markdown",
   "id": "00db1c32-b6ef-4f29-9745-778ad38e86df",
   "metadata": {},
   "source": [
    "Reading text files is similar to CSV files. The only nuance is that you need to\r\n",
    "specify a separator with the sep argument, as shown below. "
   ]
  },
  {
   "cell_type": "markdown",
   "id": "8ed5af37-ee8a-4988-9b36-109c269d6492",
   "metadata": {},
   "source": [
    "The separator argument refers to the symbol used to separate rows in a Df."
   ]
  },
  {
   "cell_type": "markdown",
   "id": "b5f05221-fa3f-4787-9350-f06d6a879054",
   "metadata": {},
   "source": [
    "Comma (sep = \",\"), whitespace(sep = \"\\s\"), tab (sep = \"\\t\"), and colon(sep = \":\")\r\n",
    "are the commonly used separators. Here \\s represents a single white space\r\n",
    "character."
   ]
  },
  {
   "cell_type": "code",
   "execution_count": null,
   "id": "023257fb-60cd-459b-b8c6-77a1cc4d4d1b",
   "metadata": {},
   "outputs": [],
   "source": [
    "df=pd.read_csv('diabetes.txt',sep='\\s')"
   ]
  },
  {
   "cell_type": "markdown",
   "id": "76de28c8-cb18-4189-a1fd-f443e11de7f6",
   "metadata": {},
   "source": []
  }
 ],
 "metadata": {
  "kernelspec": {
   "display_name": "Python 3 (ipykernel)",
   "language": "python",
   "name": "python3"
  },
  "language_info": {
   "codemirror_mode": {
    "name": "ipython",
    "version": 3
   },
   "file_extension": ".py",
   "mimetype": "text/x-python",
   "name": "python",
   "nbconvert_exporter": "python",
   "pygments_lexer": "ipython3",
   "version": "3.12.0"
  }
 },
 "nbformat": 4,
 "nbformat_minor": 5
}
