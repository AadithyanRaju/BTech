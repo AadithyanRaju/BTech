{
 "cells": [
  {
   "cell_type": "markdown",
   "metadata": {},
   "source": [
    "# Lab Sheet 3 : Data Preprocessing"
   ]
  },
  {
   "cell_type": "markdown",
   "metadata": {},
   "source": [
    "# Exercise 1 Generate Dataset "
   ]
  },
  {
   "cell_type": "markdown",
   "metadata": {},
   "source": [
    "To generate a dataset in Python, you can use various libraries such as NumPy and Pandas. A sample code is below:"
   ]
  },
  {
   "cell_type": "code",
   "execution_count": 2,
   "metadata": {},
   "outputs": [
    {
     "name": "stdout",
     "output_type": "stream",
     "text": [
      "   Age        Income      Score\n",
      "0   56  56363.051083  17.495493\n",
      "1   46  40932.793314  98.216834\n",
      "2   32  54760.425874  51.663589\n",
      "3   60  63036.612684  26.082917\n",
      "4   25  52115.870123  99.625370\n"
     ]
    }
   ],
   "source": [
    "import numpy as np \n",
    "import pandas as pd \n",
    "# Set a random seed for reproducibility \n",
    "np.random.seed(42) \n",
    "# Generate random data for three features: Age, Income, and Score n\n",
    "num_samples = 100    # Number of data points \n",
    "age = np.random.randint(18, 65, size=num_samples)   \n",
    "income = np.random.normal(50000, 10000, size=num_samples)   \n",
    "score = np.random.uniform(0, 100, size=num_samples)   \n",
    "# Create a DataFrame to store the data \n",
    "data = pd.DataFrame({ 'Age': age, 'Income': income, 'Score': score }) \n",
    "# Print the first few rows of the dataset \n",
    "print(data.head())"
   ]
  },
  {
   "cell_type": "markdown",
   "metadata": {},
   "source": [
    "## 1. Generate a dataset with the Employee Information with the following features. Include some missing values too."
   ]
  },
  {
   "cell_type": "code",
   "execution_count": 3,
   "metadata": {},
   "outputs": [
    {
     "name": "stdout",
     "output_type": "stream",
     "text": [
      "   Employee ID Employee Names Department   Salary\n",
      "0            1      Employee1         HR  11873.0\n",
      "1            2      Employee2    Finance  10675.0\n",
      "2            3      Employee3      Sales   5161.0\n",
      "3            4      Employee4         HR      NaN\n",
      "4            5      Employee5         HR  31557.0\n"
     ]
    }
   ],
   "source": [
    "\n",
    "import numpy as np\n",
    "import pandas as pd\n",
    "\n",
    "np.random.seed(42)\n",
    "num_samples = 100\n",
    "\n",
    "employee_ids = range(1, num_samples + 1)\n",
    "employee_names = [\"Employee\" + str(i) for i in range(1, num_samples + 1)]\n",
    "departments = [\"Sales\", \"Marketing\", \"HR\", \"Finance\"]\n",
    "department_choices = np.random.choice(departments, num_samples)\n",
    "\n",
    "income = np.random.randint(5000, 50000, num_samples).astype(float)\n",
    "income[np.random.choice(num_samples, 10, replace=False)] = np.nan\n",
    "\n",
    "data = {\n",
    "    'Employee ID': employee_ids,\n",
    "    'Employee Names': employee_names,\n",
    "    'Department': department_choices,\n",
    "    'Salary': income\n",
    "}\n",
    "\n",
    "df = pd.DataFrame(data)\n",
    "print(df.head())\n"
   ]
  },
  {
   "cell_type": "markdown",
   "metadata": {},
   "source": [
    "## 2. Find the Count/percentage of missing values in every column of the dataset. \n"
   ]
  },
  {
   "cell_type": "code",
   "execution_count": 4,
   "metadata": {},
   "outputs": [
    {
     "name": "stdout",
     "output_type": "stream",
     "text": [
      "Count:\n",
      "Employee ID        0\n",
      "Employee Names     0\n",
      "Department         0\n",
      "Salary            10\n",
      "dtype: int64\n",
      "Percentage:\n",
      "Employee ID        0.0\n",
      "Employee Names     0.0\n",
      "Department         0.0\n",
      "Salary            10.0\n",
      "dtype: float64\n"
     ]
    }
   ],
   "source": [
    "print(\"Count:\")\n",
    "mc=df.isnull().sum()\n",
    "print(mc)\n",
    "print(\"Percentage:\")\n",
    "mcpercentage=(df.isnull().sum()/len(df))*100\n",
    "print(mcpercentage)"
   ]
  },
  {
   "cell_type": "markdown",
   "metadata": {},
   "source": [
    "# Exercise II Missing Value Imputation "
   ]
  },
  {
   "cell_type": "markdown",
   "metadata": {},
   "source": [
    "## For the titanic dataset use Missingno library to visualize the missing values. You can use msno.bar(data), msno.matrix(data)"
   ]
  },
  {
   "cell_type": "code",
   "execution_count": null,
   "metadata": {},
   "outputs": [],
   "source": []
  }
 ],
 "metadata": {
  "kernelspec": {
   "display_name": "Python 3",
   "language": "python",
   "name": "python3"
  },
  "language_info": {
   "codemirror_mode": {
    "name": "ipython",
    "version": 3
   },
   "file_extension": ".py",
   "mimetype": "text/x-python",
   "name": "python",
   "nbconvert_exporter": "python",
   "pygments_lexer": "ipython3",
   "version": "3.12.0"
  }
 },
 "nbformat": 4,
 "nbformat_minor": 2
}
