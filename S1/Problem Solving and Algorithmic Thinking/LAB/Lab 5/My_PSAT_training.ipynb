{
  "cells": [
    {
      "cell_type": "markdown",
      "metadata": {
        "id": "jggy_UtPuiLW"
      },
      "source": [
        "<br>\n",
        "&nbsp; <img src=\"https://www.amrita.edu/ahead/images/aheadlogosticky.svg\" alt=\"AMRITA AHEAD\" width=\"250\">\n",
        "<table align=\"right\">\n",
        "  <td align=\"left\"><a href=\"https://colab.research.google.com/drive/1jZQ2k4t_jO-DF4ekyHkLAelEe5KoDwzI\">Prev: Strings in Python</a></td>\n",
        "  <td align=\"right\"><a href=\"https://colab.research.google.com/drive/1W3LjjmJj0kTjBUDx62PyUNFmJsMTjcfz\">Next: String built-in functions</a></td>\n",
        "</table>\n",
        "\n",
        "# **Week 4 - Lab 4.2 - Simple Exercises on Strings**\n",
        "\n",
        "For all the exercises mentioned below, write your program in the code segment just below the problem statement. Your program should print \"YES\" if the check succeeds (i.e. acceptable strings) and print \"NO\" otherwise."
      ]
    },
    {
      "cell_type": "code",
      "execution_count": null,
      "metadata": {
        "colab": {
          "base_uri": "https://localhost:8080/"
        },
        "id": "n2VGNr6svmSR",
        "outputId": "9310f157-c81f-4853-a165-96757c45dc05"
      },
      "outputs": [
        {
          "name": "stdout",
          "output_type": "stream",
          "text": [
            "entertainment\n",
            "NO\n"
          ]
        }
      ],
      "source": [
        "#1 checking if the input string starts with character\n",
        "text = input()\n",
        "if text[0].isalpha():\n",
        "  print('YES')\n",
        "else:\n",
        "  print('NO')\n"
      ]
    },
    {
      "cell_type": "code",
      "execution_count": null,
      "metadata": {
        "colab": {
          "base_uri": "https://localhost:8080/"
        },
        "id": "-RNpANUSwDOm",
        "outputId": "cfb3396f-6ded-41f6-a39f-1d3e9157d09f"
      },
      "outputs": [
        {
          "name": "stdout",
          "output_type": "stream",
          "text": [
            "salisu\n",
            "no\n"
          ]
        }
      ],
      "source": [
        "#2 checking if the input string starts and ends with same character\n",
        "\n",
        "text = input()\n",
        "if text[0] == text[-1]:\n",
        "  print(\"yes\")\n",
        "else:\n",
        "  print(\"no\")"
      ]
    },
    {
      "cell_type": "code",
      "execution_count": null,
      "metadata": {
        "colab": {
          "base_uri": "https://localhost:8080/"
        },
        "id": "WtlhqzzOwYXY",
        "outputId": "7b7dc6a3-9942-47d7-8c3b-b4c09c5cdfbb"
      },
      "outputs": [
        {
          "name": "stdout",
          "output_type": "stream",
          "text": [
            "abdulaaziz\n",
            "yes\n"
          ]
        }
      ],
      "source": [
        "#3 checking if the input string contains atleast a character\n",
        "\n",
        "text = input()\n",
        "for i in text:\n",
        "    if i.isalpha():\n",
        "        print(\"True\")\n",
        "        break\n",
        "else:\n",
        "    print(\"False\")"
      ]
    },
    {
      "cell_type": "code",
      "execution_count": null,
      "metadata": {
        "colab": {
          "base_uri": "https://localhost:8080/"
        },
        "id": "Wy1p0gfoxMSd",
        "outputId": "1f523030-768c-4b8c-ef94-e43018392616"
      },
      "outputs": [
        {
          "name": "stdout",
          "output_type": "stream",
          "text": [
            "umara\n",
            "yes\n"
          ]
        }
      ],
      "source": [
        "#4 checking if the input string does not ends with same character\n",
        "\n",
        "text = input()\n",
        "if text[0] != text[-1]:\n",
        "  print(\"yes\")\n",
        "else:\n",
        "  print(\"no\")"
      ]
    },
    {
      "cell_type": "code",
      "execution_count": null,
      "metadata": {
        "colab": {
          "base_uri": "https://localhost:8080/"
        },
        "id": "SRchJI_AxoHt",
        "outputId": "164677d1-93f2-42e4-fcf8-1fc245ab9d40"
      },
      "outputs": [
        {
          "name": "stdout",
          "output_type": "stream",
          "text": [
            "dead\n",
            "yes\n"
          ]
        }
      ],
      "source": [
        "#5 checking if the input string starts with character\n",
        "\n",
        "text = input()\n",
        "if text[0].isalpha():\n",
        "  print(\"yes\")\n",
        "else:\n",
        "  print(\"no\")"
      ]
    },
    {
      "cell_type": "code",
      "execution_count": null,
      "metadata": {
        "colab": {
          "base_uri": "https://localhost:8080/"
        },
        "id": "nwBnvtfWykBL",
        "outputId": "0902b382-3c92-455c-ea26-012241039578"
      },
      "outputs": [
        {
          "name": "stdout",
          "output_type": "stream",
          "text": [
            "besidee\n",
            "yes\n"
          ]
        }
      ],
      "source": [
        "#6 checking if the input string contains two consecutive character.\n",
        "\n",
        "text = input()\n",
        "for i in range(len(text)-1):\n",
        "    if text[i] == text[i+1]:\n",
        "        print(\"True\")\n",
        "        break\n",
        "else:\n",
        "    print(\"False\")"
      ]
    },
    {
      "cell_type": "code",
      "execution_count": null,
      "metadata": {
        "colab": {
          "base_uri": "https://localhost:8080/"
        },
        "id": "mkrrjK6Bz02q",
        "outputId": "b09d5252-d139-48b1-e123-745179b0171b"
      },
      "outputs": [
        {
          "name": "stdout",
          "output_type": "stream",
          "text": [
            "bashir\n",
            "no it doesn't contain two consecutive character\n"
          ]
        }
      ],
      "source": [
        "#7 checking if the input string does not contain two consecutive character\n",
        "\n",
        "text = input()\n",
        "for i in range(len(text)-1):\n",
        "    if text[i] == text[i+1]:\n",
        "        print(\"False\")\n",
        "        break\n",
        "else:\n",
        "    print(\"True\")"
      ]
    },
    {
      "cell_type": "code",
      "execution_count": null,
      "metadata": {
        "colab": {
          "base_uri": "https://localhost:8080/"
        },
        "id": "a41DchkHz2vf",
        "outputId": "b0deb746-2e8c-4064-f083-483344c98793"
      },
      "outputs": [
        {
          "name": "stdout",
          "output_type": "stream",
          "text": [
            "assemble\n",
            "yes\n"
          ]
        }
      ],
      "source": [
        "#8 checking if the input string contains atmost two character\n",
        "\n",
        "text = input()\n",
        "count = 0\n",
        "for i in text:\n",
        "    if i.isalpha():\n",
        "        count += 1\n",
        "    if count > 2:\n",
        "        print(\"NO\")\n",
        "        break\n",
        "else:\n",
        "    print(\"YES\")"
      ]
    },
    {
      "cell_type": "code",
      "execution_count": null,
      "metadata": {
        "colab": {
          "base_uri": "https://localhost:8080/"
        },
        "id": "G_2ymV6E0tL7",
        "outputId": "c9b7eaa1-6026-45ee-9390-d0b3ef957e95"
      },
      "outputs": [
        {
          "name": "stdout",
          "output_type": "stream",
          "text": [
            "buutu\n",
            "no,reject\n"
          ]
        }
      ],
      "source": [
        "#9 checking if the input string contains two u's and three b's\n",
        "\n",
        "text = input()\n",
        "if text.count('u') == 2 and text.count('b') == 3:\n",
        "  print(\"yes,accept\")\n",
        "else:\n",
        "  print(\"no,reject\")"
      ]
    },
    {
      "cell_type": "code",
      "execution_count": null,
      "metadata": {
        "colab": {
          "base_uri": "https://localhost:8080/"
        },
        "id": "1TL5ZpAj1nvB",
        "outputId": "2bcf2fd6-a6fb-4fc5-e6e6-4751051eb206"
      },
      "outputs": [
        {
          "name": "stdout",
          "output_type": "stream",
          "text": [
            "agrineer\n",
            "accept\n"
          ]
        }
      ],
      "source": [
        "#10 checking if the input string contains an even character\n",
        "\n",
        "text = input()\n",
        "l={}\n",
        "for i in text:\n",
        "    if i in l:\n",
        "        l[i]+=1\n",
        "    else:\n",
        "        l[i]=1\n",
        "for i in l:\n",
        "    if l[i]%2==0:\n",
        "        print(\"YES\")\n",
        "        break\n",
        "else:\n",
        "    print(\"NO\")\n"
      ]
    },
    {
      "cell_type": "code",
      "execution_count": null,
      "metadata": {
        "colab": {
          "base_uri": "https://localhost:8080/"
        },
        "id": "0FGd8ceY52_v",
        "outputId": "8edc23ea-00ec-456a-fc1a-1e6b8cde3da8"
      },
      "outputs": [
        {
          "name": "stdout",
          "output_type": "stream",
          "text": [
            "compress\n",
            "Accepted\n"
          ]
        }
      ],
      "source": [
        "#11 checking if the input string have e followed by two s's\n",
        "\n",
        "text = input()\n",
        "if 'ess' in text:\n",
        "  print(\"Accepted\")\n",
        "else:\n",
        "  print(\"Rejected\")"
      ]
    },
    {
      "cell_type": "code",
      "execution_count": null,
      "metadata": {
        "colab": {
          "base_uri": "https://localhost:8080/"
        },
        "id": "6OOXj3xm6vRW",
        "outputId": "8c6449eb-0bbb-4111-ce1f-550f5cba01d9"
      },
      "outputs": [
        {
          "name": "stdout",
          "output_type": "stream",
          "text": [
            "becc\n",
            "Accepted\n"
          ]
        }
      ],
      "source": [
        "#12 checking if the input string have e preceeded by two c's\n",
        "\n",
        "text = input()\n",
        "if 'cce' in text:\n",
        "  print(\"Accepted\")\n",
        "else:\n",
        "  print(\"Rejected\")"
      ]
    },
    {
      "cell_type": "code",
      "execution_count": null,
      "metadata": {
        "colab": {
          "base_uri": "https://localhost:8080/"
        },
        "id": "fBFsqzn766Lm",
        "outputId": "a8be907b-dab0-45e5-d9aa-558d96df2468"
      },
      "outputs": [
        {
          "name": "stdout",
          "output_type": "stream",
          "text": [
            "sabbaccc\n",
            "Accepted\n"
          ]
        }
      ],
      "source": [
        "#13 checking if the input string have all a followed by two b's and preceeded by three c's\n",
        "\n",
        "import re\n",
        "text = input()\n",
        "patterns = 'b{2}ac{3}?'\n",
        "if re.search(patterns,text):\n",
        "  print(\"Accepted\")\n",
        "else:\n",
        "  print(\"Rejected\")"
      ]
    },
    {
      "cell_type": "code",
      "execution_count": null,
      "metadata": {
        "colab": {
          "base_uri": "https://localhost:8080/"
        },
        "id": "9kTibTO-cUUF",
        "outputId": "141cc62e-5f81-4f53-c36e-4ece114ca927"
      },
      "outputs": [
        {
          "name": "stdout",
          "output_type": "stream",
          "text": [
            "saniinas\n",
            "Accepted\n"
          ]
        }
      ],
      "source": [
        "#14 checking if the input string of even length is a palindrome\n",
        "\n",
        "text = input()\n",
        "if(text== text[::-1] and len(text) % 2 == 0):\n",
        "  print('Accepted')\n",
        "else:\n",
        "  print('Rejected')"
      ]
    },
    {
      "cell_type": "code",
      "execution_count": null,
      "metadata": {
        "colab": {
          "base_uri": "https://localhost:8080/"
        },
        "id": "CarJZM6Wc3ko",
        "outputId": "b06a5027-228c-439e-ddd4-8201fbd84168"
      },
      "outputs": [
        {
          "name": "stdout",
          "output_type": "stream",
          "text": [
            "saniinas\n",
            "Accepted\n"
          ]
        }
      ],
      "source": [
        "#15 checking if the input string is a palindrome\n",
        "\n",
        "text = input()\n",
        "if(text== text[::-1]):\n",
        "  print('Accepted')\n",
        "else:\n",
        "  print('Rejected')"
      ]
    },
    {
      "cell_type": "code",
      "execution_count": null,
      "metadata": {
        "colab": {
          "base_uri": "https://localhost:8080/"
        },
        "id": "u-yXBF5ndJwj",
        "outputId": "9071f99f-b0f7-4f37-cd42-384965dff16b"
      },
      "outputs": [
        {
          "name": "stdout",
          "output_type": "stream",
          "text": [
            "abdulazeez\n",
            "5\n"
          ]
        }
      ],
      "source": [
        "#16 checking the number of vowels in a given string.\n",
        "text = input()\n",
        "vowels = \"AaEeIiOoUu\"\n",
        "final = [each for each in text if each in vowels]\n",
        "print(len(final))\n"
      ]
    },
    {
      "cell_type": "code",
      "execution_count": null,
      "metadata": {
        "colab": {
          "base_uri": "https://localhost:8080/"
        },
        "id": "3orcPTnodmtG",
        "outputId": "bf31fd83-9506-4547-f6de-9509a6e12135"
      },
      "outputs": [
        {
          "name": "stdout",
          "output_type": "stream",
          "text": [
            "abubakar\n",
            "Rejected\n"
          ]
        }
      ],
      "source": [
        "#17 checking if the number of character is equal to the number of other character.\n",
        "text = input()\n",
        "l={}\n",
        "for i in text:\n",
        "    if i in l:\n",
        "        l[i]+=1\n",
        "    else:\n",
        "        l[i]=1\n",
        "for i in l:\n",
        "  for j in l:\n",
        "    if i!=j:\n",
        "      if l[i]==l[j]:\n",
        "        print(\"No\")\n",
        "        exit()\n",
        "print(\"Yes\")"
      ]
    },
    {
      "cell_type": "code",
      "execution_count": null,
      "metadata": {
        "colab": {
          "base_uri": "https://localhost:8080/"
        },
        "id": "uphZddAJeGdD",
        "outputId": "889b2692-86e3-4053-8b81-c086abab6e4d"
      },
      "outputs": [
        {
          "name": "stdout",
          "output_type": "stream",
          "text": [
            "abdulazeez\n",
            "Rejected\n"
          ]
        }
      ],
      "source": [
        " #18 checking if the input string length is even, and contain exactly two vowels also if length is odd, and contain odd number of vowels\n",
        "text = input()\n",
        "vowels = \"AaEeIiOoUu\"\n",
        "final = [each for each in text if each in vowels]\n",
        "if(len(text) % 2 == 0 and len(final) == 2):\n",
        "  print(\"Accepted\")\n",
        "elif(len(text) % 2 != 0 and (len(final) % 2 != 0)):\n",
        "  print(\"Accepted\")\n",
        "else:\n",
        "  print(\"Rejected\")"
      ]
    },
    {
      "cell_type": "code",
      "execution_count": null,
      "metadata": {
        "colab": {
          "base_uri": "https://localhost:8080/"
        },
        "id": "_jrYg-FGiwEG",
        "outputId": "a284ae61-ecc8-4370-d776-d3d6e202639d"
      },
      "outputs": [
        {
          "name": "stdout",
          "output_type": "stream",
          "text": [
            "umar,umar\n",
            "Accepted\n"
          ]
        }
      ],
      "source": [
        "#19 checking if two given strings are thesame.\n",
        "a,b=map(str,input().split(\",\"))\n",
        "if (a == b):\n",
        "  print(\"Accepted\")\n",
        "else:\n",
        "  print(\"Rejected\")"
      ]
    },
    {
      "cell_type": "code",
      "execution_count": null,
      "metadata": {
        "colab": {
          "base_uri": "https://localhost:8080/"
        },
        "id": "CqpnzQ-SfVPp",
        "outputId": "175571d2-2a0d-4f1a-ae1c-70a87ef947c3"
      },
      "outputs": [
        {
          "name": "stdout",
          "output_type": "stream",
          "text": [
            "dear,read\n",
            "YES!\n"
          ]
        }
      ],
      "source": [
        "#20 checking if two given strings are anagrams\n",
        "\n",
        "a,b=map(str,input().split(\",\"))\n",
        "count=0\n",
        "if len(a)==len(b):\n",
        "  for i in a:\n",
        "    if i in b:\n",
        "      count+=1\n",
        "if len(a)==count:\n",
        "  print (\"YES!\")\n",
        "else:\n",
        "  print (\"NO!\")\n"
      ]
    }
  ],
  "metadata": {
    "colab": {
      "provenance": []
    },
    "kernelspec": {
      "display_name": "Python 3",
      "name": "python3"
    }
  },
  "nbformat": 4,
  "nbformat_minor": 0
}
