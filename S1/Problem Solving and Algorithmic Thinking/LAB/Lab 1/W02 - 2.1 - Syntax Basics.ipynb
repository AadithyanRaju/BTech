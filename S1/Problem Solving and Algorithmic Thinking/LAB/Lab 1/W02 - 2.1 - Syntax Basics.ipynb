{
 "cells": [
  {
   "cell_type": "markdown",
   "metadata": {
    "id": "TtSLR_6wqq5c"
   },
   "source": [
    "<br>\n",
    "&nbsp; <img src=\"https://www.amrita.edu/ahead/images/aheadlogosticky.svg\" alt=\"AMRITA AHEAD\" width=\"250\">\n",
    "<table align=\"right\">\n",
    "  <td align=\"left\"><a href=\"\"></a>Prev: None</td>\n",
    "  <td align=\"center\">Lab 2</td>\n",
    "  <td align=\"right\"><a href=\"https://colab.research.google.com/drive/1oQLfXiG-lfJ147RYpzP0qfM5iGOiuoIz\">Next: Frog Jumping</a></td>\n",
    "</table>\n",
    "\n",
    "# **Week 2 - Lab 2.1 - Syntax - Python basics**\n",
    "This lab sheet contains the basics of Python that was covered during this week. Short programs are given to expose every aspect the constructs covered. You can execute each program, understand how it works, make some minor changes and check the changes in the output to reinforce what you learnt in the class.\n",
    "\n",
    "**Note**: You don't have to memorize the syntax. You just need to know that the constructs are available and what they can do for you. You can always refer back to this manual in case you want to use them for problem solving. Over a period of time, through repeated usage, they will automatically get into your memory gradually."
   ]
  },
  {
   "cell_type": "markdown",
   "metadata": {
    "id": "HWipYRDIsKBC"
   },
   "source": [
    "## **A. Printing Output (to Screen)**\n",
    "\n",
    "Given below are the set of practice programs which was introduced during this week. Try running them and get familiar with the working of the syntax.\n",
    "\n",
    "### 1a. A program to print \"Hello Amrita\"."
   ]
  },
  {
   "cell_type": "code",
   "execution_count": 1,
   "metadata": {
    "colab": {
     "base_uri": "https://localhost:8080/"
    },
    "id": "jSqvUgHZqpe-",
    "outputId": "e4cc0519-2224-4ea4-eb96-ca18ee77a26e"
   },
   "outputs": [
    {
     "name": "stdout",
     "output_type": "stream",
     "text": [
      "Hello Amrita\n"
     ]
    }
   ],
   "source": [
    "print('Hello Amrita')"
   ]
  },
  {
   "cell_type": "markdown",
   "metadata": {
    "id": "rt8Qn7Nps-xy"
   },
   "source": [
    "### 2a. Another way to do the same thing.\n",
    "Note that whitespace is the default separator."
   ]
  },
  {
   "cell_type": "code",
   "execution_count": 2,
   "metadata": {
    "id": "Yq7gs7CutG6J"
   },
   "outputs": [
    {
     "name": "stdout",
     "output_type": "stream",
     "text": [
      "Hello Amrita\n"
     ]
    }
   ],
   "source": [
    "print('Hello', 'Amrita')"
   ]
  },
  {
   "cell_type": "markdown",
   "metadata": {
    "id": "wzqSX3C5tNt5"
   },
   "source": [
    "### 2b. The separator can be changed to anything else, say \"---\"."
   ]
  },
  {
   "cell_type": "code",
   "execution_count": 3,
   "metadata": {
    "id": "jt11e36-tgfK"
   },
   "outputs": [
    {
     "name": "stdout",
     "output_type": "stream",
     "text": [
      "Hello---Amrita\n"
     ]
    }
   ],
   "source": [
    "print('Hello', 'Amrita', sep='---')"
   ]
  },
  {
   "cell_type": "markdown",
   "metadata": {
    "id": "sEQtWEZVt8sx"
   },
   "source": [
    "### 3a. A program to print \"Hello\" and \"Amrita\" in two lines."
   ]
  },
  {
   "cell_type": "code",
   "execution_count": 4,
   "metadata": {
    "id": "4dnEixFwuH6D"
   },
   "outputs": [
    {
     "name": "stdout",
     "output_type": "stream",
     "text": [
      "Hello\n",
      "Amrita\n"
     ]
    }
   ],
   "source": [
    "print('Hello')\n",
    "print('Amrita')"
   ]
  },
  {
   "cell_type": "markdown",
   "metadata": {
    "id": "_Gy9l5jOuabB"
   },
   "source": [
    "### 3b. Another way to do the same thing.\n",
    "Use '\\n' which means newline."
   ]
  },
  {
   "cell_type": "code",
   "execution_count": 5,
   "metadata": {
    "id": "YfXKHDYouqhK"
   },
   "outputs": [
    {
     "name": "stdout",
     "output_type": "stream",
     "text": [
      "Hello\n",
      "Amrita\n"
     ]
    }
   ],
   "source": [
    "print('Hello\\nAmrita') # / forward slash \\ backslash"
   ]
  },
  {
   "cell_type": "markdown",
   "metadata": {
    "id": "p3PxvHBxu3Ah"
   },
   "source": [
    "### 3c. Introduce a tab space between \"Hello\" and \"Amrita\".\n",
    "tab is typically 4 or 8 whitespaces."
   ]
  },
  {
   "cell_type": "code",
   "execution_count": 6,
   "metadata": {
    "colab": {
     "base_uri": "https://localhost:8080/"
    },
    "id": "2nRl9Jg0vBqS",
    "outputId": "7e0d1ec4-e75d-4719-c1be-34209539e363"
   },
   "outputs": [
    {
     "name": "stdout",
     "output_type": "stream",
     "text": [
      "Hello\tAmrita\n"
     ]
    }
   ],
   "source": [
    "print('Hello\\tAmrita')"
   ]
  },
  {
   "cell_type": "markdown",
   "metadata": {
    "id": "FdhBBADJvTr5"
   },
   "source": [
    "### 4a. Printing an integer, say 123.\n",
    "Note that 123 is different from \"123\"."
   ]
  },
  {
   "cell_type": "code",
   "execution_count": 7,
   "metadata": {
    "colab": {
     "base_uri": "https://localhost:8080/"
    },
    "id": "gaGuzur-vaTB",
    "outputId": "0096a7f9-0f54-49d0-9b7b-ec96863f6119"
   },
   "outputs": [
    {
     "name": "stdout",
     "output_type": "stream",
     "text": [
      "1234567890\n"
     ]
    }
   ],
   "source": [
    "print(1234567890)"
   ]
  },
  {
   "cell_type": "markdown",
   "metadata": {
    "id": "oRc6cZyUvxix"
   },
   "source": [
    "### 4b. Printing a floating point number, say 3.14.\n",
    "Again, 3.14 is different from \"3.14\"."
   ]
  },
  {
   "cell_type": "code",
   "execution_count": 8,
   "metadata": {
    "colab": {
     "base_uri": "https://localhost:8080/"
    },
    "id": "1p1hHN84wE-B",
    "outputId": "15382f28-df00-4b93-e44a-cbaa3d0282c8"
   },
   "outputs": [
    {
     "name": "stdout",
     "output_type": "stream",
     "text": [
      "3.14\n"
     ]
    }
   ],
   "source": [
    "print(3.14)"
   ]
  },
  {
   "cell_type": "markdown",
   "metadata": {
    "id": "YcpSXmJWygVd"
   },
   "source": [
    "## **B. Variables and primitive types**\n",
    "\n",
    "### 5a. An integer variable.\n",
    "Assign integer to a variable and print the variable. Here, **radius** refers to a variable of integer type which takes the value 5."
   ]
  },
  {
   "cell_type": "code",
   "execution_count": 9,
   "metadata": {
    "colab": {
     "base_uri": "https://localhost:8080/"
    },
    "id": "w--VviN21gVJ",
    "outputId": "7a3577ce-d238-450d-b0a4-1b9f67a6b2a2"
   },
   "outputs": [
    {
     "name": "stdout",
     "output_type": "stream",
     "text": [
      "40 <class 'int'>\n"
     ]
    }
   ],
   "source": [
    "radius = 40\n",
    "print(radius, type(radius))"
   ]
  },
  {
   "cell_type": "markdown",
   "metadata": {
    "id": "vjjdK0U-2K0A"
   },
   "source": [
    "### 5b. A floating point variable\n",
    "\n",
    "Assign a floating point number to a variable and print the variable. Here, **pi** refers to a varible of floating point type which takes the value 3.14."
   ]
  },
  {
   "cell_type": "code",
   "execution_count": 10,
   "metadata": {
    "colab": {
     "base_uri": "https://localhost:8080/"
    },
    "id": "0zpdkfxW2ksJ",
    "outputId": "d5380223-7cec-4476-9c33-56db50e32f89"
   },
   "outputs": [
    {
     "name": "stdout",
     "output_type": "stream",
     "text": [
      "3.14 <class 'float'>\n"
     ]
    }
   ],
   "source": [
    "pi = 3.14\n",
    "print(pi,type(pi))"
   ]
  },
  {
   "cell_type": "markdown",
   "metadata": {
    "id": "02Quq_3q7x_B"
   },
   "source": [
    "### 5c. A string variable\n",
    "Assign a string to a variable and print the variable. Here, **degree** refers to a variable of String type which takes the value 'BCA'."
   ]
  },
  {
   "cell_type": "code",
   "execution_count": 11,
   "metadata": {
    "colab": {
     "base_uri": "https://localhost:8080/"
    },
    "id": "BDQtblvV8Vqu",
    "outputId": "acee8cc6-0bbb-4ca3-bf6f-a7328bb72d00"
   },
   "outputs": [
    {
     "name": "stdout",
     "output_type": "stream",
     "text": [
      "B.Tech\n"
     ]
    }
   ],
   "source": [
    "degree = \"B.Tech\"\n",
    "print(degree)"
   ]
  },
  {
   "cell_type": "markdown",
   "metadata": {
    "id": "AaKp6tP0gCKK"
   },
   "source": [
    "### 5d. A Boolean variable\n",
    "Assign True or False to a variable and print. Here, **employed** refers to a variable of Boolean type which takes value True."
   ]
  },
  {
   "cell_type": "code",
   "execution_count": 12,
   "metadata": {
    "colab": {
     "base_uri": "https://localhost:8080/"
    },
    "id": "UQWtgDO0gdZZ",
    "outputId": "a5996e68-d79a-4d80-b36d-8378c8abd181"
   },
   "outputs": [
    {
     "name": "stdout",
     "output_type": "stream",
     "text": [
      "False\n"
     ]
    }
   ],
   "source": [
    "employed = False\n",
    "print(employed)"
   ]
  },
  {
   "cell_type": "markdown",
   "metadata": {
    "id": "QPn-QC6l8y0W"
   },
   "source": [
    "### 5e. Assigning values to multiple variables simultaneously\n",
    "In a single line, you can assign values to multiple varaibles. The type of the variable is automatically inferred when the program is executed. The first one is a string, second one an integer, and last one a floating point."
   ]
  },
  {
   "cell_type": "code",
   "execution_count": 13,
   "metadata": {
    "colab": {
     "base_uri": "https://localhost:8080/"
    },
    "id": "WQugDOYs9RN9",
    "outputId": "8796d8c4-0f43-4532-868d-d29f836b9bc4"
   },
   "outputs": [
    {
     "name": "stdout",
     "output_type": "stream",
     "text": [
      "Bharat || 25 || 5.8 || True\n"
     ]
    }
   ],
   "source": [
    "name, age, height, employed = 'Bharat', 25, 5.8, True\n",
    "print(name,age,height,employed,sep=' || ')"
   ]
  },
  {
   "cell_type": "markdown",
   "metadata": {
    "id": "SxkDweImfhYv"
   },
   "source": [
    "## **C. Reading Input (from keyboard)**\n",
    "\n",
    "### 6a. Reading a string input\n",
    "\n",
    "Reading a string input into a variable and printing it. Once you run, type your input using the keyboard when prompted."
   ]
  },
  {
   "cell_type": "code",
   "execution_count": 1,
   "metadata": {
    "id": "hnlwo2ZQfg5y"
   },
   "outputs": [
    {
     "name": "stdin",
     "output_type": "stream",
     "text": [
      " Aadithyan\n"
     ]
    },
    {
     "name": "stdout",
     "output_type": "stream",
     "text": [
      "Hello Aadithyan\n"
     ]
    }
   ],
   "source": [
    "name = input()\n",
    "print('Hello', name)"
   ]
  },
  {
   "cell_type": "markdown",
   "metadata": {
    "id": "wzEWf7XfkyQh"
   },
   "source": [
    "### 6b. Reading an integer input\n",
    "\n",
    "Reading an integer into a variable and print it. Type an integer when prompted. Try giving floating point or string and see what happens."
   ]
  },
  {
   "cell_type": "code",
   "execution_count": 3,
   "metadata": {
    "colab": {
     "base_uri": "https://localhost:8080/",
     "height": 197
    },
    "id": "jCOma4CqfOjB",
    "outputId": "652c9e77-7fba-4546-bd69-154c6c67c5e8"
   },
   "outputs": [
    {
     "name": "stdin",
     "output_type": "stream",
     "text": [
      " 19\n"
     ]
    },
    {
     "name": "stdout",
     "output_type": "stream",
     "text": [
      "19\n"
     ]
    }
   ],
   "source": [
    "age = int(input()) # By default input() returns a string. It needs to be convert to int using int() function\n",
    "print(age)"
   ]
  },
  {
   "cell_type": "markdown",
   "metadata": {
    "id": "ZX7rWGekmGyi"
   },
   "source": [
    "### 6c. Reading a floating point variable\n",
    "\n",
    "Reading a floating point value into a variable and print it. Type an floating point number when prompted. Try giving integer or string and see what happens.\n",
    "\n"
   ]
  },
  {
   "cell_type": "code",
   "execution_count": null,
   "metadata": {
    "colab": {
     "base_uri": "https://localhost:8080/"
    },
    "id": "YVUqOfh8nCqA",
    "outputId": "06439877-2ffe-4c62-e063-04b640904470"
   },
   "outputs": [
    {
     "name": "stdout",
     "output_type": "stream",
     "text": [
      "5\n",
      "The height is 5.0\n"
     ]
    }
   ],
   "source": [
    "height = float(input())\n",
    "print('The height is', height)"
   ]
  },
  {
   "cell_type": "markdown",
   "metadata": {
    "id": "h7H1efBwnqUX"
   },
   "source": [
    "### 6d. Reading a boolean variable\n",
    "\n",
    "Reading a boolen value into a variable and print it. Type True or False when prompted.  **This is not working**"
   ]
  },
  {
   "cell_type": "code",
   "execution_count": 4,
   "metadata": {
    "id": "h8Xe96Qun4SG"
   },
   "outputs": [
    {
     "name": "stdin",
     "output_type": "stream",
     "text": [
      " 1\n"
     ]
    },
    {
     "name": "stdout",
     "output_type": "stream",
     "text": [
      "Employment status = True\n"
     ]
    }
   ],
   "source": [
    "employed = bool(input())\n",
    "print('Employment status =', employed)"
   ]
  },
  {
   "cell_type": "markdown",
   "metadata": {
    "id": "-FkF_HFX0Cup"
   },
   "source": [
    "### 6e. Read input values one from each line"
   ]
  },
  {
   "cell_type": "code",
   "execution_count": null,
   "metadata": {
    "colab": {
     "base_uri": "https://localhost:8080/"
    },
    "id": "YyCZk_zr0XKQ",
    "outputId": "c8f29a1e-c3ba-410f-92b1-8344823377a7"
   },
   "outputs": [
    {
     "name": "stdout",
     "output_type": "stream",
     "text": [
      "Amrita\n",
      "25\n",
      "5.6\n",
      "True\n",
      "Amrita 25 5.6 True\n"
     ]
    }
   ],
   "source": [
    "name = input()\n",
    "age = int(input())\n",
    "height = float(input())\n",
    "employed = bool(input())\n",
    "print(name, age, height, employed)"
   ]
  },
  {
   "cell_type": "markdown",
   "metadata": {
    "id": "0cNdI3gaphwn"
   },
   "source": [
    "### 6f. Reading multiple inputs in a single line\n",
    "\n",
    "Use split() function to tokenize (based on whitespace) the input into multiple parts. Note that every value is read as a string. Converting to respective types should be done afterwards."
   ]
  },
  {
   "cell_type": "code",
   "execution_count": null,
   "metadata": {
    "colab": {
     "base_uri": "https://localhost:8080/"
    },
    "id": "JKB4TFKMqTz2",
    "outputId": "cb83f61d-ea20-40d8-a9db-1f1d43b078a8"
   },
   "outputs": [
    {
     "name": "stdout",
     "output_type": "stream",
     "text": [
      "Amrita 25 5.6\n",
      "Amrita 25 5.6\n",
      "Amrita 25 5.6\n"
     ]
    }
   ],
   "source": [
    "name, age, height, = input().split() # This will read everything as string\n",
    "print(name, age, height)\n",
    "age = int(age)\n",
    "height = float(height)\n",
    "print(name, age, height)"
   ]
  },
  {
   "cell_type": "markdown",
   "metadata": {
    "id": "n-bL48Z92IR_"
   },
   "source": [
    "### 6g. Reading multiple integers in a single line\n",
    "\n",
    "Use map() function to specify the type of the values. Here is the usage."
   ]
  },
  {
   "cell_type": "code",
   "execution_count": null,
   "metadata": {
    "colab": {
     "base_uri": "https://localhost:8080/"
    },
    "id": "Wdm8kB0e2cTz",
    "outputId": "fe553ae5-735a-4d04-8e9a-6048fbd4a696"
   },
   "outputs": [
    {
     "name": "stdout",
     "output_type": "stream",
     "text": [
      "1 2 3 4\n",
      "1 2 3 4\n"
     ]
    }
   ],
   "source": [
    "a, b, c, d = map(int, input().split())\n",
    "print(a,b,c,d)"
   ]
  },
  {
   "cell_type": "markdown",
   "metadata": {
    "id": "vkvzqaShyXhv"
   },
   "source": [
    "## **D. Operators**\n",
    "\n",
    "### 7a. Arithmetic operators\n",
    "Arithmetic operators include + (addition), - (subtraction), * (multiplication), / (division), // (quotient), % (remainder) and ** (power). A program to demonstrate the working below."
   ]
  },
  {
   "cell_type": "code",
   "execution_count": null,
   "metadata": {
    "colab": {
     "base_uri": "https://localhost:8080/"
    },
    "id": "-YuWPc0MzeHm",
    "outputId": "da761a8e-c11a-4e26-d0be-32da51dc4222"
   },
   "outputs": [
    {
     "name": "stdout",
     "output_type": "stream",
     "text": [
      "25 -15 100 0.25 0 5 95367431640625\n",
      "95367431640603.17\n"
     ]
    }
   ],
   "source": [
    "a, b = 5, 20\n",
    "sum = a + b\n",
    "diff = a - b\n",
    "product = a * b\n",
    "result = a / b\n",
    "quotient = a // b\n",
    "remainder = a % b\n",
    "power = a ** b\n",
    "print (sum, diff, product, result, quotient, remainder, power)"
   ]
  },
  {
   "cell_type": "markdown",
   "metadata": {
    "id": "yF1BvAda4_t5"
   },
   "source": [
    "You can do the same thing without using additional variables to store the results.\n",
    "```\n",
    "a, b = 5, 2\n",
    "print(a+b, a-b, a*b, a/b, a//b, a%b, a**b)\n",
    "```\n",
    "Try adding a code block right below and check for yourself."
   ]
  },
  {
   "cell_type": "markdown",
   "metadata": {
    "id": "xk95Bbdg5mxH"
   },
   "source": [
    "### 7b. Comparison operators\n",
    "\n",
    "Comparison operators return a boolean value True or False depending on whether comparison succeeded or not. The comparison operators include == (equality), < (less than), <= (less than or equal to), > (greater than), >= (greater than or equal to), != (not equal).\n",
    "\n",
    "Note: = is assignment operator. == is equality comparison operator."
   ]
  },
  {
   "cell_type": "code",
   "execution_count": null,
   "metadata": {
    "colab": {
     "base_uri": "https://localhost:8080/"
    },
    "id": "jb_2GvGC7C-G",
    "outputId": "4fc1e316-e708-4d0f-dcf7-f2c0534dab13"
   },
   "outputs": [
    {
     "name": "stdout",
     "output_type": "stream",
     "text": [
      "True\n",
      "False\n",
      "False\n",
      "True\n",
      "True\n",
      "True\n"
     ]
    }
   ],
   "source": [
    "a, b = 5, 2\n",
    "print(a == b+3)\n",
    "print(a < b)\n",
    "print(a <= b)  # <= is a single operator\n",
    "print(a > b)\n",
    "print(a >= b)\n",
    "print(a != b)"
   ]
  },
  {
   "cell_type": "code",
   "execution_count": null,
   "metadata": {
    "colab": {
     "base_uri": "https://localhost:8080/"
    },
    "id": "qDr7ruddE8-O",
    "outputId": "8697a182-dd55-44e1-f40c-e29a1e0ef6ff"
   },
   "outputs": [
    {
     "name": "stdout",
     "output_type": "stream",
     "text": [
      "7\n"
     ]
    }
   ],
   "source": [
    "a,b = 5,2\n",
    "print(a=b)"
   ]
  },
  {
   "cell_type": "markdown",
   "metadata": {
    "id": "217_V0O99CmD"
   },
   "source": [
    "### 7c. Logical operators\n",
    "\n",
    "Logical operators allow you to combine two or more comparison operations. Then include **and**, **or** and **not**. The first two are binary operators while the last one is unary. The result of any logical operation is a boolean value True or False.\n",
    "\n",
    "Here is the program to demonstrate the operators."
   ]
  },
  {
   "cell_type": "code",
   "execution_count": null,
   "metadata": {
    "colab": {
     "base_uri": "https://localhost:8080/"
    },
    "id": "N7YZV-1hjIfB",
    "outputId": "15eb965b-7721-40a6-feef-6b4d7529f026"
   },
   "outputs": [
    {
     "name": "stdout",
     "output_type": "stream",
     "text": [
      "False\n",
      "True\n",
      "False\n",
      "True\n",
      "True\n"
     ]
    }
   ],
   "source": [
    "x, y, z = 2, 10, 7\n",
    "\n",
    "print(x < y and y < z)  # Should print False since y is not less than z\n",
    "print(x < y or y < z)  # Should print True since x is less than y\n",
    "print(not x < y)  # Should print False since x < y is True and opposite of it is False.\n",
    "print (x < y and not y < z)  # Should print true since x < y and y >= z\n",
    "# These operators play a complementary role\n",
    "print(x+y < z*2 and x*z <= y**5)"
   ]
  },
  {
   "cell_type": "markdown",
   "metadata": {
    "id": "o9787zAF_DO5"
   },
   "source": [
    "## **E. Conditional Branching**\n",
    "\n",
    "### 8a. Perform an action based on condition\n",
    "Check with different values of x and y. The indentation is important for the program to run."
   ]
  },
  {
   "cell_type": "code",
   "execution_count": null,
   "metadata": {
    "colab": {
     "base_uri": "https://localhost:8080/"
    },
    "id": "QDHALo4DAE1N",
    "outputId": "749258bb-0133-4e71-bdde-18a4760e3abd"
   },
   "outputs": [
    {
     "name": "stdout",
     "output_type": "stream",
     "text": [
      "2\n",
      "2\n"
     ]
    }
   ],
   "source": [
    "x = int(input())\n",
    "y = int(input())\n",
    "if x < y :\n",
    "  print(x,  'is less than', y)"
   ]
  },
  {
   "cell_type": "markdown",
   "metadata": {
    "id": "opJqelyLA1HP"
   },
   "source": [
    "### 8b. Perform two different actions based on a condition.\n",
    "Again check with different values of x and y."
   ]
  },
  {
   "cell_type": "code",
   "execution_count": null,
   "metadata": {
    "colab": {
     "base_uri": "https://localhost:8080/"
    },
    "id": "lzzTUlV0BDH8",
    "outputId": "1718be45-cc55-4ae6-f687-f7a884690443"
   },
   "outputs": [
    {
     "name": "stdout",
     "output_type": "stream",
     "text": [
      "5\n",
      "5\n",
      "5 is not less than 5\n"
     ]
    }
   ],
   "source": [
    "x = int(input())\n",
    "y = int(input())\n",
    "if x < y :\n",
    "  print(x, 'is less than', y)\n",
    "else :\n",
    "  print(x, 'is not less than', y)"
   ]
  },
  {
   "cell_type": "markdown",
   "metadata": {
    "id": "93q8sFTuCQFe"
   },
   "source": [
    "### 8c. Perform three different actions based on conditions\n",
    "\n",
    "This can be extended to any number of branchings."
   ]
  },
  {
   "cell_type": "code",
   "execution_count": null,
   "metadata": {
    "colab": {
     "base_uri": "https://localhost:8080/"
    },
    "id": "AVRatfzdCbRI",
    "outputId": "5f5c499b-f636-4f87-b8aa-a12991ec24fc"
   },
   "outputs": [
    {
     "name": "stdout",
     "output_type": "stream",
     "text": [
      "3\n",
      "3\n",
      "3 is equal to 3\n"
     ]
    }
   ],
   "source": [
    "x = int(input())\n",
    "y = int(input())\n",
    "if x < y :                      # Condition 1\n",
    "  print (x, 'is less than', y)        # Branching 1\n",
    "elif x > y :                    # Condition 2\n",
    "  print (x, 'is greater than', y)     # Branching 2\n",
    "else :                          # Condition 3 (implicit)\n",
    "  print (x, 'is equal to', y)         # Branching 3"
   ]
  },
  {
   "cell_type": "markdown",
   "metadata": {
    "id": "t1YtW4ClDiBO"
   },
   "source": [
    "### 8d. Perform nested branching\n"
   ]
  },
  {
   "cell_type": "code",
   "execution_count": null,
   "metadata": {
    "colab": {
     "base_uri": "https://localhost:8080/"
    },
    "id": "sfEHkKbCEDO8",
    "outputId": "608d7c10-e2cb-46f7-9a0f-70d06af8c807"
   },
   "outputs": [
    {
     "name": "stdout",
     "output_type": "stream",
     "text": [
      "1 0 5\n",
      "1 is not less than 0\n"
     ]
    }
   ],
   "source": [
    "x,y,z = map(int, input().split())\n",
    "\n",
    "if x < y :\n",
    "  if y < z :\n",
    "    print(x,y,z,'form a sorted sequence')\n",
    "  else :\n",
    "    print(x,y,z,'do not form a sorted sequence')\n",
    "else :\n",
    "  print(x,'is not less than', y)"
   ]
  },
  {
   "cell_type": "markdown",
   "metadata": {
    "id": "A8t4il9XeNGr"
   },
   "source": [
    "## **F. Iterations / loops**\n",
    "\n",
    "### 9a. Print 'Hello Amrita' 10 times"
   ]
  },
  {
   "cell_type": "code",
   "execution_count": null,
   "metadata": {
    "colab": {
     "base_uri": "https://localhost:8080/"
    },
    "id": "7Avp_Uu3jtZK",
    "outputId": "42e15718-6b73-4064-ef06-aec892927b01"
   },
   "outputs": [
    {
     "name": "stdout",
     "output_type": "stream",
     "text": [
      "Hello Amrita\n",
      "Hello Amrita\n",
      "Hello Amrita\n",
      "Hello Amrita\n",
      "Hello Amrita\n",
      "Hello Amrita\n",
      "Hello Amrita\n",
      "Hello Amrita\n",
      "Hello Amrita\n",
      "Hello Amrita\n"
     ]
    }
   ],
   "source": [
    "for i in range(10) :  # Start from 0, count until 9, increasing by 1 at a time\n",
    "  print('Hello Amrita')     # i serves as a counter"
   ]
  },
  {
   "cell_type": "markdown",
   "metadata": {
    "id": "1vDEptG4j4Ld"
   },
   "source": [
    "### 9b. Print 'Hello Amrita' n times"
   ]
  },
  {
   "cell_type": "code",
   "execution_count": null,
   "metadata": {
    "id": "i4QHQJB3j_Zc"
   },
   "outputs": [],
   "source": [
    "n = int(input())\n",
    "for i in range(n) :   # Start from 0, count until n-1, increasing by 1 at a time\n",
    "  print('Hello Amrita')"
   ]
  },
  {
   "cell_type": "markdown",
   "metadata": {
    "id": "A397JFt2kMWJ"
   },
   "source": [
    "### 9c. Print 'Hello Amrita' along with count"
   ]
  },
  {
   "cell_type": "code",
   "execution_count": null,
   "metadata": {
    "colab": {
     "base_uri": "https://localhost:8080/"
    },
    "id": "StXRkqU3kV7Z",
    "outputId": "bb702086-45cd-40b8-a1a2-edbb105db3e0"
   },
   "outputs": [
    {
     "name": "stdout",
     "output_type": "stream",
     "text": [
      "10\n",
      "Hello Amrita 0\n",
      "Hello Amrita 1\n",
      "Hello Amrita 2\n",
      "Hello Amrita 3\n",
      "Hello Amrita 4\n",
      "Hello Amrita 5\n",
      "Hello Amrita 6\n",
      "Hello Amrita 7\n",
      "Hello Amrita 8\n",
      "Hello Amrita 9\n"
     ]
    }
   ],
   "source": [
    "n = int(input())\n",
    "for i in range(n) :   # Start from 0, go until n-1, increasing by 1 at a time\n",
    "  print('Hello Amrita', i)"
   ]
  },
  {
   "cell_type": "markdown",
   "metadata": {
    "id": "D2NFKtZfkn6X"
   },
   "source": [
    "### 9d. Print 'Hello Amrita' starting from 1"
   ]
  },
  {
   "cell_type": "code",
   "execution_count": null,
   "metadata": {
    "colab": {
     "base_uri": "https://localhost:8080/"
    },
    "id": "xvQI7ZqVk1GD",
    "outputId": "94885e68-e09f-444f-ce40-c9a23c844899"
   },
   "outputs": [
    {
     "name": "stdout",
     "output_type": "stream",
     "text": [
      "5\n",
      "Hello Amrita 10\n",
      "Hello Amrita 11\n",
      "Hello Amrita 12\n",
      "Hello Amrita 13\n",
      "Hello Amrita 14\n"
     ]
    }
   ],
   "source": [
    "n = int(input())\n",
    "for i in range(10,n+10) :   # Start from 1, go until n, taking 1 step at a time\n",
    "  print('Hello Amrita', i)"
   ]
  },
  {
   "cell_type": "markdown",
   "metadata": {
    "id": "wIj9pWLwmQhN"
   },
   "source": [
    "### 9e. Print alternate numbers from 1 to n"
   ]
  },
  {
   "cell_type": "code",
   "execution_count": null,
   "metadata": {
    "colab": {
     "base_uri": "https://localhost:8080/"
    },
    "id": "JH7ea1KumZHL",
    "outputId": "a5430821-eb77-476f-8e98-60a96400cb13"
   },
   "outputs": [
    {
     "name": "stdout",
     "output_type": "stream",
     "text": [
      "10\n",
      "Hello Amrita 1\n",
      "Hello Amrita 3\n",
      "Hello Amrita 5\n",
      "Hello Amrita 7\n",
      "Hello Amrita 9\n"
     ]
    }
   ],
   "source": [
    "n = int(input())\n",
    "for i in range(1,n,2) :  # Start from 1, go until n-1, jumping 2 steps\n",
    "  print('Hello Amrita', i)"
   ]
  },
  {
   "cell_type": "markdown",
   "metadata": {
    "id": "usRM5OJflHjH"
   },
   "source": [
    "### 9e. Get n pairs of numbers as input and compute their sum"
   ]
  },
  {
   "cell_type": "code",
   "execution_count": null,
   "metadata": {
    "colab": {
     "base_uri": "https://localhost:8080/"
    },
    "id": "CXarIL3llS-w",
    "outputId": "0c217e6f-a5f6-4ea4-8fca-fe2275c50ee2"
   },
   "outputs": [
    {
     "name": "stdout",
     "output_type": "stream",
     "text": [
      "3\n",
      "2 5\n",
      "7\n",
      "5 -5\n",
      "0\n",
      "5 5\n",
      "10\n"
     ]
    }
   ],
   "source": [
    "n = int(input())\n",
    "for i in range(n) :\n",
    "  a,b = map(int, input().split())\n",
    "  print(a+b)"
   ]
  },
  {
   "cell_type": "code",
   "execution_count": null,
   "metadata": {
    "colab": {
     "base_uri": "https://localhost:8080/"
    },
    "id": "UybM1mwXNces",
    "outputId": "a268f54a-feb7-4b8c-c5f1-0b2d5a8e5519"
   },
   "outputs": [
    {
     "name": "stdout",
     "output_type": "stream",
     "text": [
      "1\n",
      "5 10\n",
      "5\n"
     ]
    }
   ],
   "source": [
    "n = int(input())\n",
    "for i in range(n) :\n",
    "  a, b = map(int, input().split())\n",
    "  if a > b :\n",
    "    print(a-b)\n",
    "  else :\n",
    "    print(b-a)"
   ]
  },
  {
   "cell_type": "code",
   "execution_count": null,
   "metadata": {
    "id": "pTPh7JEuLKX_"
   },
   "outputs": [],
   "source": []
  },
  {
   "cell_type": "markdown",
   "metadata": {
    "id": "It_KV8naaBRI"
   },
   "source": [
    "## **G. while loop**\n",
    "\n",
    "### **10a. Conditional looping with while**\n",
    "\n",
    "The **while** loop can be used to repeat a task based on the truth value of a certain condition. For example, the following program reads a and b, and iterates through the loop until the condition **a < b** becomes eventually true.\n",
    "\n",
    "Note that a is incremeneted and b is decremented by 1 within the loop. So sooner or later, a < b condition fails and the loop ends. If a >= b at the beginning, the loop is never entered.\n",
    "\n",
    "The number of times the loop runs, differs from one run to the other depending on the input values given to a and b."
   ]
  },
  {
   "cell_type": "code",
   "execution_count": null,
   "metadata": {
    "colab": {
     "base_uri": "https://localhost:8080/"
    },
    "id": "uLvdFekPai0x",
    "outputId": "d23c5f8c-7339-4e70-83d7-80dac0334552"
   },
   "outputs": [
    {
     "name": "stdout",
     "output_type": "stream",
     "text": [
      "5 10\n",
      "6 9\n",
      "7 8\n",
      "8 7\n"
     ]
    }
   ],
   "source": [
    "a,b = map(int, input().split())\n",
    "while a < b  :\n",
    "  a = a + 1\n",
    "  b = b - 1\n",
    "  print(a, b)"
   ]
  },
  {
   "cell_type": "markdown",
   "metadata": {
    "id": "krfdFFPZMPp6"
   },
   "source": [
    "**Question**: What would happen if a was never incremented and b was not decremented inside the while loop?"
   ]
  },
  {
   "cell_type": "markdown",
   "metadata": {
    "id": "xjngSuypOIRg"
   },
   "source": [
    "### **10b. Connection between for loop and while loop**\n",
    "\n",
    "The **for** loop given below"
   ]
  },
  {
   "cell_type": "code",
   "execution_count": null,
   "metadata": {
    "id": "UC4GNCcdSk5d"
   },
   "outputs": [],
   "source": [
    "n = int(input())\n",
    "for i in range(n) :\n",
    "  print(i)"
   ]
  },
  {
   "cell_type": "markdown",
   "metadata": {
    "id": "KYcCwjJkSlNc"
   },
   "source": [
    "can be restated using **while** loop as follows. Note that, i should be explicitly initialized before the loop and explicitly incremented during the loop."
   ]
  },
  {
   "cell_type": "code",
   "execution_count": null,
   "metadata": {
    "id": "oiYuMz8lS9i5"
   },
   "outputs": [],
   "source": [
    "n = int(input())\n",
    "i = 0  # initialize i\n",
    "while i < n :\n",
    "  print(i)\n",
    "  i = i + 1   # same as i += 1"
   ]
  },
  {
   "cell_type": "markdown",
   "metadata": {
    "id": "KoQS_lBuV9Lv"
   },
   "source": [
    "### **10c. Breaking out of while loop**\n",
    "\n",
    "The break statement is used to exit the loop even if the while condition is true. The following program takes a and b as input repeatedly, checks if a >= b and prints a/b. Additionally if b happens to be 0, it breaks out of the loop."
   ]
  },
  {
   "cell_type": "code",
   "execution_count": null,
   "metadata": {
    "colab": {
     "base_uri": "https://localhost:8080/"
    },
    "id": "T29B7hbPXWM8",
    "outputId": "e79de0c1-73c9-4462-b4b4-156c61e8ad80"
   },
   "outputs": [
    {
     "name": "stdout",
     "output_type": "stream",
     "text": [
      "5 0\n",
      "Breaking out of the loop\n"
     ]
    }
   ],
   "source": [
    "a,b = 1,1\n",
    "while a >= b :\n",
    "  a,b = map(int,input().split())\n",
    "  if b == 0 :\n",
    "    print('Breaking out of the loop')\n",
    "    break\n",
    "  print(a/b)"
   ]
  },
  {
   "cell_type": "markdown",
   "metadata": {
    "id": "8MW9TYDA7-qj"
   },
   "source": [
    "### **10d. Continuing with the while loop**\n",
    "\n",
    "The continue statement is used to skip the remaining statements and go to the beginning of the loop. The following program takes a and b as input repeatedly, checks if a is >= b and prints a/b.\n",
    "- If both a and b happens to be 0, it goes to the beginning of the while loop.\n",
    "- If b alone happens to be 0, it breaks out of the loop."
   ]
  },
  {
   "cell_type": "code",
   "execution_count": null,
   "metadata": {
    "colab": {
     "base_uri": "https://localhost:8080/"
    },
    "id": "R1XyW_Kc-DAo",
    "outputId": "215181e7-3723-4f79-fd5f-026ab6c83697"
   },
   "outputs": [
    {
     "name": "stdout",
     "output_type": "stream",
     "text": [
      "0 0\n",
      "0 0\n",
      "0 0\n",
      "10 8\n",
      "1.25\n",
      "7 4\n",
      "1.75\n",
      "9 3\n",
      "3.0\n",
      "4 9\n",
      "0.4444444444444444\n"
     ]
    }
   ],
   "source": [
    "a,b = 1,1\n",
    "while a >= b :\n",
    "  a,b = map(int,input().split())\n",
    "  if a == 0 and b == 0 :\n",
    "    continue\n",
    "  if b == 0 :\n",
    "    print('Breaking out of the loop')\n",
    "    break\n",
    "  print(a/b)"
   ]
  },
  {
   "cell_type": "markdown",
   "metadata": {
    "id": "hhjvTVebBMtx"
   },
   "source": [
    "## **H. Functions**\n",
    "\n",
    "Functions can be thought of as sub-programs which performs a part of a computation independently. A function takes input in the form of parameters and returns a result as output. Functions are first defined and then called.\n",
    "\n",
    "Why do we need functions?<br>\n",
    "To break down the program into independent, manageable units with well-defined interface. Functions ensure modularity of code.\n",
    "\n",
    "The following program defines a function which takes radius as input, computes the area of a circle and returns the area."
   ]
  },
  {
   "cell_type": "code",
   "execution_count": null,
   "metadata": {
    "colab": {
     "base_uri": "https://localhost:8080/"
    },
    "id": "mWXL8CThHR0d",
    "outputId": "04f88bab-5600-431a-98a6-29527ca7cfd0"
   },
   "outputs": [
    {
     "name": "stdout",
     "output_type": "stream",
     "text": [
      "10.0\n",
      "314.0 sq. units\n"
     ]
    }
   ],
   "source": [
    "def area(radius) :                  # This is function definition - area is its name, radius is its input parameter\n",
    "  carea = 3.14 * radius * radius\n",
    "  return carea                       # This is how function retuns the output to the caller\n",
    "\n",
    "r = float(input())\n",
    "a = area(r)                         # This is how a function is called and its output returned\n",
    "print(a, \"sq. units\")"
   ]
  },
  {
   "cell_type": "markdown",
   "metadata": {
    "id": "61CyP4kRI9wG"
   },
   "source": [
    "The following function sigma computes the sum of first n numbers."
   ]
  },
  {
   "cell_type": "code",
   "execution_count": null,
   "metadata": {
    "colab": {
     "base_uri": "https://localhost:8080/"
    },
    "id": "sk6_X10fI8mc",
    "outputId": "21a5a2ca-7ad8-4805-b146-43b9649b5f87"
   },
   "outputs": [
    {
     "name": "stdout",
     "output_type": "stream",
     "text": [
      "10\n",
      "55\n"
     ]
    }
   ],
   "source": [
    "def sigma(n) :\n",
    "  return n * (n+1) // 2\n",
    "\n",
    "num = int(input())\n",
    "print( sigma(num) )"
   ]
  },
  {
   "cell_type": "markdown",
   "metadata": {
    "id": "d4I02mZaJuO4"
   },
   "source": [
    "The following function range_sum computes the sum of integers from a to b by using the sigma function."
   ]
  },
  {
   "cell_type": "code",
   "execution_count": null,
   "metadata": {
    "colab": {
     "base_uri": "https://localhost:8080/"
    },
    "id": "pViLs6JvKC83",
    "outputId": "7c5aa5bd-3e5b-4886-914b-98ef63a2cfdf"
   },
   "outputs": [
    {
     "name": "stdout",
     "output_type": "stream",
     "text": [
      "10 5\n",
      "-30\n"
     ]
    }
   ],
   "source": [
    "def sigma(n) :\n",
    "  return n * (n+1) // 2\n",
    "\n",
    "def range_sum(start, end) :\n",
    "  return sigma(end) - sigma(start-1)\n",
    "\n",
    "a,b = map(int,input().split())\n",
    "print( range_sum(a,b) )"
   ]
  },
  {
   "cell_type": "markdown",
   "metadata": {
    "id": "9n1xKiUCK0CZ"
   },
   "source": [
    "What will happen if you input a and b such that a > b. First make a guess. Then try it out to check if your intuition worked.\n",
    "\n",
    "Adding an **if condition** to make the code more robust. start and end are swapped first in case start > end."
   ]
  },
  {
   "cell_type": "code",
   "execution_count": null,
   "metadata": {
    "colab": {
     "base_uri": "https://localhost:8080/"
    },
    "id": "jHp0fF93LX5k",
    "outputId": "ba39778b-75a6-4766-a03e-92df85597e4d"
   },
   "outputs": [
    {
     "name": "stdout",
     "output_type": "stream",
     "text": [
      "10 5\n",
      "45\n"
     ]
    }
   ],
   "source": [
    "def sigma(n) :\n",
    "  return n * (n+1) // 2\n",
    "\n",
    "def range_sum(start, end) :\n",
    "  if (start > end) :\n",
    "    start, end = end, start\n",
    "  return sigma(end) - sigma(start-1)\n",
    "\n",
    "a,b = map(int,input().split())\n",
    "print( range_sum(a,b) )"
   ]
  }
 ],
 "metadata": {
  "colab": {
   "provenance": []
  },
  "kernelspec": {
   "display_name": "Python 3 (ipykernel)",
   "language": "python",
   "name": "python3"
  },
  "language_info": {
   "codemirror_mode": {
    "name": "ipython",
    "version": 3
   },
   "file_extension": ".py",
   "mimetype": "text/x-python",
   "name": "python",
   "nbconvert_exporter": "python",
   "pygments_lexer": "ipython3",
   "version": "3.11.3"
  }
 },
 "nbformat": 4,
 "nbformat_minor": 4
}
